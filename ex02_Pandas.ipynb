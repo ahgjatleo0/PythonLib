{
 "cells": [
  {
   "cell_type": "markdown",
   "id": "053b6774",
   "metadata": {},
   "source": [
    "### Pandas 객체(자료구조)\n",
    "- 1차원 : 시리즈(Series)\n",
    "- 2차원 : 데이터프레임(DataFrame)"
   ]
  },
  {
   "cell_type": "code",
   "execution_count": 1,
   "id": "f7c3cf63",
   "metadata": {
    "ExecuteTime": {
     "end_time": "2023-03-22T00:04:25.177256Z",
     "start_time": "2023-03-22T00:04:24.683413Z"
    }
   },
   "outputs": [],
   "source": [
    "# pandas 모듈을 불러와서 pd라는 별칭으로 사용하겠다.\n",
    "import pandas as pd"
   ]
  },
  {
   "cell_type": "code",
   "execution_count": 2,
   "id": "e7bc8ac4",
   "metadata": {
    "ExecuteTime": {
     "end_time": "2023-03-22T00:04:25.192216Z",
     "start_time": "2023-03-22T00:04:25.179276Z"
    }
   },
   "outputs": [
    {
     "data": {
      "text/plain": [
       "0    9602000\n",
       "1    3344000\n",
       "2    1488000\n",
       "3    2419000\n",
       "dtype: int64"
      ]
     },
     "execution_count": 2,
     "metadata": {},
     "output_type": "execute_result"
    }
   ],
   "source": [
    "# 1차원 시리즈 생성\n",
    "# list를 사용하여 Series 생성\n",
    "# 도시별 인구수 나타내는 Series 생성\n",
    "pop = pd.Series([9602000, 3344000, 1488000, 2419000])\n",
    "pop"
   ]
  },
  {
   "cell_type": "code",
   "execution_count": 3,
   "id": "8166b438",
   "metadata": {
    "ExecuteTime": {
     "end_time": "2023-03-22T00:04:25.208174Z",
     "start_time": "2023-03-22T00:04:25.194212Z"
    }
   },
   "outputs": [
    {
     "data": {
      "text/plain": [
       "서울    9602000\n",
       "부산    3344000\n",
       "광주    1488000\n",
       "대구    2419000\n",
       "dtype: int64"
      ]
     },
     "execution_count": 3,
     "metadata": {},
     "output_type": "execute_result"
    }
   ],
   "source": [
    "# 시리즈 데이터에 인덱스를 지정하기\n",
    "pop = pd.Series([9602000, 3344000, 1488000, 2419000],\n",
    "          index = ['서울', '부산', '광주', '대구'])\n",
    "pop"
   ]
  },
  {
   "cell_type": "code",
   "execution_count": 4,
   "id": "938d2ea3",
   "metadata": {
    "ExecuteTime": {
     "end_time": "2023-03-22T00:04:25.218940Z",
     "start_time": "2023-03-22T00:04:25.210168Z"
    }
   },
   "outputs": [
    {
     "data": {
      "text/plain": [
       "서울    605.2\n",
       "부산    770.1\n",
       "광주    501.1\n",
       "대구    883.5\n",
       "dtype: float64"
      ]
     },
     "execution_count": 4,
     "metadata": {},
     "output_type": "execute_result"
    }
   ],
   "source": [
    "# 딕셔너리를 이용해서 시리즈 생성해보기\n",
    "# 면적에 대한 정보\n",
    "area = pd.Series({'서울' : 605.2, '부산' : 770.1 , '광주' : 501.1, '대구' : 883.5})\n",
    "area"
   ]
  },
  {
   "cell_type": "markdown",
   "id": "f5c58997",
   "metadata": {},
   "source": [
    "- 데이터 속성 확인"
   ]
  },
  {
   "cell_type": "code",
   "execution_count": 5,
   "id": "b0af26d9",
   "metadata": {
    "ExecuteTime": {
     "end_time": "2023-03-22T00:04:25.234217Z",
     "start_time": "2023-03-22T00:04:25.218940Z"
    }
   },
   "outputs": [
    {
     "data": {
      "text/plain": [
       "array([9602000, 3344000, 1488000, 2419000], dtype=int64)"
      ]
     },
     "execution_count": 5,
     "metadata": {},
     "output_type": "execute_result"
    }
   ],
   "source": [
    "# 1. value값만 확인하고 싶을때\n",
    "pop.values   # 출력결과의 형태 : Numpy 배열"
   ]
  },
  {
   "cell_type": "code",
   "execution_count": 6,
   "id": "625fbbeb",
   "metadata": {
    "ExecuteTime": {
     "end_time": "2023-03-22T00:04:25.249391Z",
     "start_time": "2023-03-22T00:04:25.236213Z"
    }
   },
   "outputs": [
    {
     "data": {
      "text/plain": [
       "Index(['서울', '부산', '광주', '대구'], dtype='object')"
      ]
     },
     "execution_count": 6,
     "metadata": {},
     "output_type": "execute_result"
    }
   ],
   "source": [
    "# 2. 시리즈의 인덱스 값을 확인하고 싶을 때\n",
    "pop.index # dtype = object ==> 문자열 자료형"
   ]
  },
  {
   "cell_type": "code",
   "execution_count": 7,
   "id": "852afcd5",
   "metadata": {
    "ExecuteTime": {
     "end_time": "2023-03-22T00:04:25.267538Z",
     "start_time": "2023-03-22T00:04:25.251386Z"
    }
   },
   "outputs": [
    {
     "data": {
      "text/plain": [
       "dtype('float64')"
      ]
     },
     "execution_count": 7,
     "metadata": {},
     "output_type": "execute_result"
    }
   ],
   "source": [
    "# 3. 시리즈의 데이터 타입 확인\n",
    "pop.dtype\n",
    "area.dtype"
   ]
  },
  {
   "cell_type": "markdown",
   "id": "80b8cda9",
   "metadata": {},
   "source": [
    "#### 시리즈 이름 지정\n",
    "- 시리즈의 이름은 DataFrame의 컬럼명이 된다"
   ]
  },
  {
   "cell_type": "code",
   "execution_count": 8,
   "id": "27d9cb1b",
   "metadata": {
    "ExecuteTime": {
     "end_time": "2023-03-22T00:04:25.283234Z",
     "start_time": "2023-03-22T00:04:25.268458Z"
    }
   },
   "outputs": [
    {
     "data": {
      "text/plain": [
       "서울    9602000\n",
       "부산    3344000\n",
       "광주    1488000\n",
       "대구    2419000\n",
       "dtype: int64"
      ]
     },
     "execution_count": 8,
     "metadata": {},
     "output_type": "execute_result"
    }
   ],
   "source": [
    "pop"
   ]
  },
  {
   "cell_type": "code",
   "execution_count": 9,
   "id": "9f6b974e",
   "metadata": {
    "ExecuteTime": {
     "end_time": "2023-03-22T00:04:25.299289Z",
     "start_time": "2023-03-22T00:04:25.285230Z"
    }
   },
   "outputs": [
    {
     "data": {
      "text/plain": [
       "서울    9602000\n",
       "부산    3344000\n",
       "광주    1488000\n",
       "대구    2419000\n",
       "Name: 2020 인구, dtype: int64"
      ]
     },
     "execution_count": 9,
     "metadata": {},
     "output_type": "execute_result"
    }
   ],
   "source": [
    "pop.name = '2020 인구'\n",
    "pop"
   ]
  },
  {
   "cell_type": "code",
   "execution_count": 10,
   "id": "06692b84",
   "metadata": {
    "ExecuteTime": {
     "end_time": "2023-03-22T00:04:25.314577Z",
     "start_time": "2023-03-22T00:04:25.301285Z"
    }
   },
   "outputs": [
    {
     "data": {
      "text/plain": [
       "도시\n",
       "서울    9602000\n",
       "부산    3344000\n",
       "광주    1488000\n",
       "대구    2419000\n",
       "Name: 2020 인구, dtype: int64"
      ]
     },
     "execution_count": 10,
     "metadata": {},
     "output_type": "execute_result"
    }
   ],
   "source": [
    "pop.index.name = '도시'\n",
    "pop"
   ]
  },
  {
   "cell_type": "markdown",
   "id": "30663eb2",
   "metadata": {},
   "source": [
    "#### 시리즈 데이터 갱신(수정), 삭제, 추가"
   ]
  },
  {
   "cell_type": "code",
   "execution_count": 11,
   "id": "d1a516a0",
   "metadata": {
    "ExecuteTime": {
     "end_time": "2023-03-22T00:04:25.330125Z",
     "start_time": "2023-03-22T00:04:25.316574Z"
    }
   },
   "outputs": [
    {
     "data": {
      "text/plain": [
       "지역\n",
       "서울    9602000\n",
       "부산    3344000\n",
       "광주    1488000\n",
       "대구    2419000\n",
       "Name: 2020 인구, dtype: int64"
      ]
     },
     "execution_count": 11,
     "metadata": {},
     "output_type": "execute_result"
    }
   ],
   "source": [
    "# 갱신(수정)\n",
    "# 1. 인덱스 위치 접근\n",
    "# 2. 값을 대입\n",
    "pop.index.name = '지역'\n",
    "pop"
   ]
  },
  {
   "cell_type": "code",
   "execution_count": 12,
   "id": "9f7b0bb2",
   "metadata": {
    "ExecuteTime": {
     "end_time": "2023-03-22T00:04:25.345923Z",
     "start_time": "2023-03-22T00:04:25.330125Z"
    }
   },
   "outputs": [
    {
     "data": {
      "text/plain": [
       "지역\n",
       "서울    9602000\n",
       "부산    3500000\n",
       "광주    1488000\n",
       "대구    2419000\n",
       "Name: 2020 인구, dtype: int64"
      ]
     },
     "execution_count": 12,
     "metadata": {},
     "output_type": "execute_result"
    }
   ],
   "source": [
    "# 부산 데이터를 3500000으로 수정\n",
    "pop['부산'] = 3500000\n",
    "pop"
   ]
  },
  {
   "cell_type": "code",
   "execution_count": 13,
   "id": "a2184fca",
   "metadata": {
    "ExecuteTime": {
     "end_time": "2023-03-22T00:04:25.353796Z",
     "start_time": "2023-03-22T00:04:25.347917Z"
    }
   },
   "outputs": [],
   "source": [
    "# 삭제 : drop()\n",
    "# 광주 도시 삭제\n",
    "pop.drop('광주')  # 데이터를 삭제하고 초기화를 시켜주지 않음.\n",
    "\n",
    "# inplace : 데이터를 삭제하고 원래 위치에 반영(초기화)\n",
    "pop.drop('광주', inplace=True) # 초기화\n",
    "# ==> pop = pop.drop('광주')와 같다\n"
   ]
  },
  {
   "cell_type": "code",
   "execution_count": 14,
   "id": "c99dbb9c",
   "metadata": {
    "ExecuteTime": {
     "end_time": "2023-03-22T00:04:25.369411Z",
     "start_time": "2023-03-22T00:04:25.354310Z"
    }
   },
   "outputs": [
    {
     "data": {
      "text/plain": [
       "지역\n",
       "서울    9602000\n",
       "부산    3500000\n",
       "대구    2419000\n",
       "Name: 2020 인구, dtype: int64"
      ]
     },
     "execution_count": 14,
     "metadata": {},
     "output_type": "execute_result"
    }
   ],
   "source": [
    "pop"
   ]
  },
  {
   "cell_type": "code",
   "execution_count": 15,
   "id": "ecc62969",
   "metadata": {
    "ExecuteTime": {
     "end_time": "2023-03-22T00:04:25.385369Z",
     "start_time": "2023-03-22T00:04:25.371408Z"
    }
   },
   "outputs": [
    {
     "data": {
      "text/plain": [
       "지역\n",
       "서울    9602000\n",
       "부산    3500000\n",
       "대구    2419000\n",
       "거제     250000\n",
       "Name: 2020 인구, dtype: int64"
      ]
     },
     "execution_count": 15,
     "metadata": {},
     "output_type": "execute_result"
    }
   ],
   "source": [
    "# 추가 : 없는 키 값을 불러주고 값을 대입\n",
    "# '거제' : 250000\n",
    "pop['거제'] = 250000\n",
    "pop"
   ]
  },
  {
   "cell_type": "code",
   "execution_count": 16,
   "id": "27500da9",
   "metadata": {
    "ExecuteTime": {
     "end_time": "2023-03-22T00:04:25.401255Z",
     "start_time": "2023-03-22T00:04:25.387821Z"
    }
   },
   "outputs": [
    {
     "data": {
      "text/plain": [
       "도시\n",
       "서울    9602000\n",
       "부산    3344000\n",
       "대구    2419000\n",
       "거제     250000\n",
       "천안     660000\n",
       "Name: 2020 인구, dtype: int64"
      ]
     },
     "execution_count": 16,
     "metadata": {},
     "output_type": "execute_result"
    }
   ],
   "source": [
    "# 인덱스 이름 변경 : 지역 ==> 도시\n",
    "pop.index.name = '도시'\n",
    "\n",
    "# 천안 데이터 추가 ==> '천안' : 660000\n",
    "pop['천안'] = 660000\n",
    "\n",
    "# 부산 데이터 수정\n",
    "pop['부산'] = 3344000\n",
    "\n",
    "pop"
   ]
  },
  {
   "cell_type": "code",
   "execution_count": 17,
   "id": "2f3be8d8",
   "metadata": {
    "ExecuteTime": {
     "end_time": "2023-03-22T00:04:25.417162Z",
     "start_time": "2023-03-22T00:04:25.403251Z"
    }
   },
   "outputs": [
    {
     "data": {
      "text/plain": [
       "도시\n",
       "서울    605.2\n",
       "부산    770.1\n",
       "광주    501.1\n",
       "대구    883.5\n",
       "거제    501.1\n",
       "천안    450.1\n",
       "Name: 면적(㎢), dtype: float64"
      ]
     },
     "execution_count": 17,
     "metadata": {},
     "output_type": "execute_result"
    }
   ],
   "source": [
    "# 인덱스 이름 설정\n",
    "area.index.name = '도시'\n",
    "\n",
    "# 시리즈 이름 설정\n",
    "area.name = '면적(㎢)'\n",
    "\n",
    "# 데이터 수정(광주 -> 거제), 천안 추가\n",
    "area['거제'] = 501.1\n",
    "area['천안'] = 450.1\n",
    "\n",
    "area"
   ]
  },
  {
   "cell_type": "markdown",
   "id": "26d1a296",
   "metadata": {},
   "source": [
    "### 시리즈 병합(concat)\n",
    "- 1차원을 연결하여 2차원으로 변환\n",
    "- 시리지의 이름이 데이터프레임의 컬럼명이 되는지 확인"
   ]
  },
  {
   "cell_type": "code",
   "execution_count": 18,
   "id": "763964be",
   "metadata": {
    "ExecuteTime": {
     "end_time": "2023-03-22T00:04:25.449076Z",
     "start_time": "2023-03-22T00:04:25.419157Z"
    }
   },
   "outputs": [
    {
     "data": {
      "text/plain": [
       "도시\n",
       "서울    9602000.0\n",
       "부산    3344000.0\n",
       "대구    2419000.0\n",
       "거제     250000.0\n",
       "천안     660000.0\n",
       "서울        605.2\n",
       "부산        770.1\n",
       "광주        501.1\n",
       "대구        883.5\n",
       "거제        501.1\n",
       "천안        450.1\n",
       "dtype: float64"
      ]
     },
     "metadata": {},
     "output_type": "display_data"
    },
    {
     "data": {
      "text/html": [
       "<div>\n",
       "<style scoped>\n",
       "    .dataframe tbody tr th:only-of-type {\n",
       "        vertical-align: middle;\n",
       "    }\n",
       "\n",
       "    .dataframe tbody tr th {\n",
       "        vertical-align: top;\n",
       "    }\n",
       "\n",
       "    .dataframe thead th {\n",
       "        text-align: right;\n",
       "    }\n",
       "</style>\n",
       "<table border=\"1\" class=\"dataframe\">\n",
       "  <thead>\n",
       "    <tr style=\"text-align: right;\">\n",
       "      <th></th>\n",
       "      <th>2020 인구</th>\n",
       "      <th>면적(㎢)</th>\n",
       "    </tr>\n",
       "    <tr>\n",
       "      <th>도시</th>\n",
       "      <th></th>\n",
       "      <th></th>\n",
       "    </tr>\n",
       "  </thead>\n",
       "  <tbody>\n",
       "    <tr>\n",
       "      <th>서울</th>\n",
       "      <td>9602000.0</td>\n",
       "      <td>605.2</td>\n",
       "    </tr>\n",
       "    <tr>\n",
       "      <th>부산</th>\n",
       "      <td>3344000.0</td>\n",
       "      <td>770.1</td>\n",
       "    </tr>\n",
       "    <tr>\n",
       "      <th>대구</th>\n",
       "      <td>2419000.0</td>\n",
       "      <td>883.5</td>\n",
       "    </tr>\n",
       "    <tr>\n",
       "      <th>거제</th>\n",
       "      <td>250000.0</td>\n",
       "      <td>501.1</td>\n",
       "    </tr>\n",
       "    <tr>\n",
       "      <th>천안</th>\n",
       "      <td>660000.0</td>\n",
       "      <td>450.1</td>\n",
       "    </tr>\n",
       "    <tr>\n",
       "      <th>광주</th>\n",
       "      <td>NaN</td>\n",
       "      <td>501.1</td>\n",
       "    </tr>\n",
       "  </tbody>\n",
       "</table>\n",
       "</div>"
      ],
      "text/plain": [
       "      2020 인구  면적(㎢)\n",
       "도시                  \n",
       "서울  9602000.0  605.2\n",
       "부산  3344000.0  770.1\n",
       "대구  2419000.0  883.5\n",
       "거제   250000.0  501.1\n",
       "천안   660000.0  450.1\n",
       "광주        NaN  501.1"
      ]
     },
     "metadata": {},
     "output_type": "display_data"
    }
   ],
   "source": [
    "# axis = 0 : 행방향(수직방향)\n",
    "# axis = 1 : 열방향(수평방향)\n",
    "df = pd.concat([pop, area]) # axis 기본값 ==> 행방향\n",
    "df2 = pd.concat([pop, area], axis=1)\n",
    "\n",
    "display(df)\n",
    "display(df2)\n",
    "\n"
   ]
  },
  {
   "cell_type": "markdown",
   "id": "69c51dbe",
   "metadata": {},
   "source": [
    "#### 2차원 데이터프레임 생성\n",
    "- 리스트, 딕셔너리 자료를 활용하여 생성 가능"
   ]
  },
  {
   "cell_type": "code",
   "execution_count": 19,
   "id": "1efc751b",
   "metadata": {
    "ExecuteTime": {
     "end_time": "2023-03-22T00:04:25.461323Z",
     "start_time": "2023-03-22T00:04:25.451072Z"
    }
   },
   "outputs": [
    {
     "data": {
      "text/html": [
       "<div>\n",
       "<style scoped>\n",
       "    .dataframe tbody tr th:only-of-type {\n",
       "        vertical-align: middle;\n",
       "    }\n",
       "\n",
       "    .dataframe tbody tr th {\n",
       "        vertical-align: top;\n",
       "    }\n",
       "\n",
       "    .dataframe thead th {\n",
       "        text-align: right;\n",
       "    }\n",
       "</style>\n",
       "<table border=\"1\" class=\"dataframe\">\n",
       "  <thead>\n",
       "    <tr style=\"text-align: right;\">\n",
       "      <th></th>\n",
       "      <th>2020 인구</th>\n",
       "      <th>면적(㎢)</th>\n",
       "    </tr>\n",
       "  </thead>\n",
       "  <tbody>\n",
       "    <tr>\n",
       "      <th>서울</th>\n",
       "      <td>9602000</td>\n",
       "      <td>605.2</td>\n",
       "    </tr>\n",
       "    <tr>\n",
       "      <th>부산</th>\n",
       "      <td>3344000</td>\n",
       "      <td>770.1</td>\n",
       "    </tr>\n",
       "    <tr>\n",
       "      <th>대구</th>\n",
       "      <td>2419000</td>\n",
       "      <td>883.5</td>\n",
       "    </tr>\n",
       "  </tbody>\n",
       "</table>\n",
       "</div>"
      ],
      "text/plain": [
       "    2020 인구  면적(㎢)\n",
       "서울  9602000  605.2\n",
       "부산  3344000  770.1\n",
       "대구  2419000  883.5"
      ]
     },
     "execution_count": 19,
     "metadata": {},
     "output_type": "execute_result"
    }
   ],
   "source": [
    "# 딕셔너리를 이용하여 데이터프레임 생성하기\n",
    "data = {'2020 인구' : [9602000, 3344000, 2419000], '면적(㎢)' : [605.2, 770.1, 883.5]} # 키값이 컬럼명\n",
    "data\n",
    "df3 = pd.DataFrame(data, index = ['서울', '부산', '대구'])\n",
    "df3"
   ]
  },
  {
   "attachments": {
    "image.png": {
     "image/png": "[encoded data removed]"
    }
   },
   "cell_type": "markdown",
   "id": "815ed5c7",
   "metadata": {},
   "source": [
    "![image.png](attachment:image.png)"
   ]
  },
  {
   "cell_type": "code",
   "execution_count": 20,
   "id": "660c8b1d",
   "metadata": {
    "ExecuteTime": {
     "end_time": "2023-03-22T00:04:25.477260Z",
     "start_time": "2023-03-22T00:04:25.461323Z"
    }
   },
   "outputs": [
    {
     "data": {
      "text/html": [
       "<div>\n",
       "<style scoped>\n",
       "    .dataframe tbody tr th:only-of-type {\n",
       "        vertical-align: middle;\n",
       "    }\n",
       "\n",
       "    .dataframe tbody tr th {\n",
       "        vertical-align: top;\n",
       "    }\n",
       "\n",
       "    .dataframe thead th {\n",
       "        text-align: right;\n",
       "    }\n",
       "</style>\n",
       "<table border=\"1\" class=\"dataframe\">\n",
       "  <thead>\n",
       "    <tr style=\"text-align: right;\">\n",
       "      <th></th>\n",
       "      <th>키</th>\n",
       "      <th>몸무게</th>\n",
       "      <th>나이</th>\n",
       "    </tr>\n",
       "  </thead>\n",
       "  <tbody>\n",
       "    <tr>\n",
       "      <th>홍길동</th>\n",
       "      <td>175.3</td>\n",
       "      <td>66.2</td>\n",
       "      <td>27.0</td>\n",
       "    </tr>\n",
       "    <tr>\n",
       "      <th>김사또</th>\n",
       "      <td>180.2</td>\n",
       "      <td>78.9</td>\n",
       "      <td>49.0</td>\n",
       "    </tr>\n",
       "    <tr>\n",
       "      <th>임꺽정</th>\n",
       "      <td>178.6</td>\n",
       "      <td>55.1</td>\n",
       "      <td>35.0</td>\n",
       "    </tr>\n",
       "  </tbody>\n",
       "</table>\n",
       "</div>"
      ],
      "text/plain": [
       "         키   몸무게    나이\n",
       "홍길동  175.3  66.2  27.0\n",
       "김사또  180.2  78.9  49.0\n",
       "임꺽정  178.6  55.1  35.0"
      ]
     },
     "execution_count": 20,
     "metadata": {},
     "output_type": "execute_result"
    }
   ],
   "source": [
    "data4 = {'키' : [175.3, 180.2, 178.6],\n",
    "        '몸무게' : [66.2, 78.9, 55.1],\n",
    "        '나이' : [27.0, 49.0, 35.0]}\n",
    "df4 = pd.DataFrame(data4, index= ['홍길동', '김사또', '임꺽정'])\n",
    "df4"
   ]
  },
  {
   "cell_type": "markdown",
   "id": "cc45d2fa",
   "metadata": {},
   "source": [
    "### Pandas 데이터 접근하기 : 인덱싱 & 슬라이싱\n",
    "#### 시리즈 인덱싱"
   ]
  },
  {
   "cell_type": "code",
   "execution_count": 21,
   "id": "618b71ab",
   "metadata": {
    "ExecuteTime": {
     "end_time": "2023-03-22T00:04:25.487120Z",
     "start_time": "2023-03-22T00:04:25.479256Z"
    }
   },
   "outputs": [
    {
     "data": {
      "text/plain": [
       "250000"
      ]
     },
     "execution_count": 21,
     "metadata": {},
     "output_type": "execute_result"
    }
   ],
   "source": [
    "pop\n",
    "# 인덱싱으로 거제 데이터 접근\n",
    "pop[3]"
   ]
  },
  {
   "cell_type": "code",
   "execution_count": 22,
   "id": "0c6d4a3e",
   "metadata": {
    "ExecuteTime": {
     "end_time": "2023-03-22T00:04:25.501923Z",
     "start_time": "2023-03-22T00:04:25.487120Z"
    }
   },
   "outputs": [
    {
     "data": {
      "text/plain": [
       "도시\n",
       "서울    9602000\n",
       "대구    2419000\n",
       "천안     660000\n",
       "Name: 2020 인구, dtype: int64"
      ]
     },
     "execution_count": 22,
     "metadata": {},
     "output_type": "execute_result"
    }
   ],
   "source": [
    "# 여러개 도시 데이터를 한번에 인덱싱하기\n",
    "pop\n",
    "pop[['서울','대구','천안']]\n",
    "pop[[0,2,4]]"
   ]
  },
  {
   "cell_type": "markdown",
   "id": "a793c579",
   "metadata": {},
   "source": [
    "#### 시리즈 슬라이싱"
   ]
  },
  {
   "cell_type": "code",
   "execution_count": 23,
   "id": "f726d306",
   "metadata": {
    "ExecuteTime": {
     "end_time": "2023-03-22T00:04:25.518932Z",
     "start_time": "2023-03-22T00:04:25.502924Z"
    }
   },
   "outputs": [
    {
     "data": {
      "text/plain": [
       "도시\n",
       "서울    9602000\n",
       "부산    3344000\n",
       "대구    2419000\n",
       "거제     250000\n",
       "천안     660000\n",
       "Name: 2020 인구, dtype: int64"
      ]
     },
     "execution_count": 23,
     "metadata": {},
     "output_type": "execute_result"
    }
   ],
   "source": [
    "pop"
   ]
  },
  {
   "cell_type": "code",
   "execution_count": 24,
   "id": "6b010208",
   "metadata": {
    "ExecuteTime": {
     "end_time": "2023-03-22T00:04:25.531107Z",
     "start_time": "2023-03-22T00:04:25.518932Z"
    }
   },
   "outputs": [
    {
     "data": {
      "text/plain": [
       "도시\n",
       "부산    3344000\n",
       "대구    2419000\n",
       "거제     250000\n",
       "천안     660000\n",
       "Name: 2020 인구, dtype: int64"
      ]
     },
     "execution_count": 24,
     "metadata": {},
     "output_type": "execute_result"
    }
   ],
   "source": [
    "# 부산 ~ 천안 접근해보기\n",
    "pop[1:]"
   ]
  },
  {
   "cell_type": "markdown",
   "id": "e728110d",
   "metadata": {},
   "source": [
    "#### 시리즈 불리언 인덱싱"
   ]
  },
  {
   "cell_type": "code",
   "execution_count": 25,
   "id": "99c288dc",
   "metadata": {
    "ExecuteTime": {
     "end_time": "2023-03-22T00:04:25.546939Z",
     "start_time": "2023-03-22T00:04:25.531107Z"
    }
   },
   "outputs": [
    {
     "data": {
      "text/plain": [
       "도시\n",
       "서울    9602000\n",
       "부산    3344000\n",
       "대구    2419000\n",
       "거제     250000\n",
       "천안     660000\n",
       "Name: 2020 인구, dtype: int64"
      ]
     },
     "execution_count": 25,
     "metadata": {},
     "output_type": "execute_result"
    }
   ],
   "source": [
    "pop"
   ]
  },
  {
   "cell_type": "code",
   "execution_count": 26,
   "id": "6c2d86e4",
   "metadata": {
    "ExecuteTime": {
     "end_time": "2023-03-22T00:04:25.562906Z",
     "start_time": "2023-03-22T00:04:25.548911Z"
    }
   },
   "outputs": [
    {
     "data": {
      "text/plain": [
       "도시\n",
       "거제    250000\n",
       "천안    660000\n",
       "Name: 2020 인구, dtype: int64"
      ]
     },
     "execution_count": 26,
     "metadata": {},
     "output_type": "execute_result"
    }
   ],
   "source": [
    "# 인구수가 1000000 미만인 도시 확인하기\n",
    "pop < 1000000\n",
    "pop[pop<1000000]"
   ]
  },
  {
   "cell_type": "code",
   "execution_count": 27,
   "id": "058b33cc",
   "metadata": {
    "ExecuteTime": {
     "end_time": "2023-03-22T00:04:25.572378Z",
     "start_time": "2023-03-22T00:04:25.564867Z"
    }
   },
   "outputs": [
    {
     "data": {
      "text/plain": [
       "Index(['거제', '천안'], dtype='object', name='도시')"
      ]
     },
     "execution_count": 27,
     "metadata": {},
     "output_type": "execute_result"
    }
   ],
   "source": [
    "# 백만 미만인 도시명만 확인하고 싶을 때\n",
    "pop[pop<1000000].index"
   ]
  },
  {
   "cell_type": "code",
   "execution_count": 28,
   "id": "458be9c9",
   "metadata": {
    "ExecuteTime": {
     "end_time": "2023-03-22T00:04:25.588128Z",
     "start_time": "2023-03-22T00:04:25.573926Z"
    }
   },
   "outputs": [
    {
     "data": {
      "text/plain": [
       "도시\n",
       "부산    3344000\n",
       "대구    2419000\n",
       "Name: 2020 인구, dtype: int64"
      ]
     },
     "metadata": {},
     "output_type": "display_data"
    },
    {
     "data": {
      "text/plain": [
       "Index(['부산', '대구'], dtype='object', name='도시')"
      ]
     },
     "execution_count": 28,
     "metadata": {},
     "output_type": "execute_result"
    }
   ],
   "source": [
    "# 인구수가 2백만 이상 ~ 5백만 이하인 도시 확인하기\n",
    "display(pop[(pop>=2000000) & (pop <= 5000000)])\n",
    "pop[(pop>=2000000) & (pop <= 5000000)].index"
   ]
  },
  {
   "cell_type": "markdown",
   "id": "020e4375",
   "metadata": {},
   "source": [
    "#### DataFrame 열 인덱싱"
   ]
  },
  {
   "cell_type": "code",
   "execution_count": 29,
   "id": "d410196f",
   "metadata": {
    "ExecuteTime": {
     "end_time": "2023-03-22T00:04:25.604057Z",
     "start_time": "2023-03-22T00:04:25.590094Z"
    }
   },
   "outputs": [
    {
     "data": {
      "text/html": [
       "<div>\n",
       "<style scoped>\n",
       "    .dataframe tbody tr th:only-of-type {\n",
       "        vertical-align: middle;\n",
       "    }\n",
       "\n",
       "    .dataframe tbody tr th {\n",
       "        vertical-align: top;\n",
       "    }\n",
       "\n",
       "    .dataframe thead th {\n",
       "        text-align: right;\n",
       "    }\n",
       "</style>\n",
       "<table border=\"1\" class=\"dataframe\">\n",
       "  <thead>\n",
       "    <tr style=\"text-align: right;\">\n",
       "      <th></th>\n",
       "      <th>java</th>\n",
       "      <th>python</th>\n",
       "      <th>db</th>\n",
       "      <th>html/css</th>\n",
       "    </tr>\n",
       "  </thead>\n",
       "  <tbody>\n",
       "    <tr>\n",
       "      <th>dw</th>\n",
       "      <td>95</td>\n",
       "      <td>100</td>\n",
       "      <td>85</td>\n",
       "      <td>70</td>\n",
       "    </tr>\n",
       "    <tr>\n",
       "      <th>eh</th>\n",
       "      <td>85</td>\n",
       "      <td>95</td>\n",
       "      <td>85</td>\n",
       "      <td>75</td>\n",
       "    </tr>\n",
       "  </tbody>\n",
       "</table>\n",
       "</div>"
      ],
      "text/plain": [
       "    java  python  db  html/css\n",
       "dw    95     100  85        70\n",
       "eh    85      95  85        75"
      ]
     },
     "execution_count": 29,
     "metadata": {},
     "output_type": "execute_result"
    }
   ],
   "source": [
    "# 2명 학생에 대한 성적 데이터 프레임 생성\n",
    "df_stu = pd.DataFrame({'java':[95, 85], 'python':[100,95],\n",
    "                       'db':[85,85], 'html/css':[70,75],},\n",
    "                        index = ['dw','eh'])\n",
    "df_stu"
   ]
  },
  {
   "cell_type": "code",
   "execution_count": 30,
   "id": "53cf0764",
   "metadata": {
    "ExecuteTime": {
     "end_time": "2023-03-22T00:04:25.619434Z",
     "start_time": "2023-03-22T00:04:25.605798Z"
    }
   },
   "outputs": [
    {
     "data": {
      "text/plain": [
       "dw    100\n",
       "eh     95\n",
       "Name: python, dtype: int64"
      ]
     },
     "execution_count": 30,
     "metadata": {},
     "output_type": "execute_result"
    }
   ],
   "source": [
    "# 'python' 과목 성적 데이터 접근\n",
    "df_stu['python']"
   ]
  },
  {
   "cell_type": "code",
   "execution_count": 31,
   "id": "0078c3c3",
   "metadata": {
    "ExecuteTime": {
     "end_time": "2023-03-22T00:04:25.635392Z",
     "start_time": "2023-03-22T00:04:25.621429Z"
    }
   },
   "outputs": [
    {
     "data": {
      "text/html": [
       "<div>\n",
       "<style scoped>\n",
       "    .dataframe tbody tr th:only-of-type {\n",
       "        vertical-align: middle;\n",
       "    }\n",
       "\n",
       "    .dataframe tbody tr th {\n",
       "        vertical-align: top;\n",
       "    }\n",
       "\n",
       "    .dataframe thead th {\n",
       "        text-align: right;\n",
       "    }\n",
       "</style>\n",
       "<table border=\"1\" class=\"dataframe\">\n",
       "  <thead>\n",
       "    <tr style=\"text-align: right;\">\n",
       "      <th></th>\n",
       "      <th>python</th>\n",
       "    </tr>\n",
       "  </thead>\n",
       "  <tbody>\n",
       "    <tr>\n",
       "      <th>dw</th>\n",
       "      <td>100</td>\n",
       "    </tr>\n",
       "    <tr>\n",
       "      <th>eh</th>\n",
       "      <td>95</td>\n",
       "    </tr>\n",
       "  </tbody>\n",
       "</table>\n",
       "</div>"
      ],
      "text/plain": [
       "    python\n",
       "dw     100\n",
       "eh      95"
      ]
     },
     "execution_count": 31,
     "metadata": {},
     "output_type": "execute_result"
    }
   ],
   "source": [
    "df_stu[['python']]"
   ]
  },
  {
   "cell_type": "code",
   "execution_count": 32,
   "id": "d17677ba",
   "metadata": {
    "ExecuteTime": {
     "end_time": "2023-03-22T00:04:25.647367Z",
     "start_time": "2023-03-22T00:04:25.637388Z"
    }
   },
   "outputs": [
    {
     "data": {
      "text/html": [
       "<div>\n",
       "<style scoped>\n",
       "    .dataframe tbody tr th:only-of-type {\n",
       "        vertical-align: middle;\n",
       "    }\n",
       "\n",
       "    .dataframe tbody tr th {\n",
       "        vertical-align: top;\n",
       "    }\n",
       "\n",
       "    .dataframe thead th {\n",
       "        text-align: right;\n",
       "    }\n",
       "</style>\n",
       "<table border=\"1\" class=\"dataframe\">\n",
       "  <thead>\n",
       "    <tr style=\"text-align: right;\">\n",
       "      <th></th>\n",
       "      <th>python</th>\n",
       "      <th>db</th>\n",
       "    </tr>\n",
       "  </thead>\n",
       "  <tbody>\n",
       "    <tr>\n",
       "      <th>dw</th>\n",
       "      <td>100</td>\n",
       "      <td>85</td>\n",
       "    </tr>\n",
       "    <tr>\n",
       "      <th>eh</th>\n",
       "      <td>95</td>\n",
       "      <td>85</td>\n",
       "    </tr>\n",
       "  </tbody>\n",
       "</table>\n",
       "</div>"
      ],
      "text/plain": [
       "    python  db\n",
       "dw     100  85\n",
       "eh      95  85"
      ]
     },
     "execution_count": 32,
     "metadata": {},
     "output_type": "execute_result"
    }
   ],
   "source": [
    "# 여러개의 컬럼에 접근하기\n",
    "df_stu[['python', 'db']]"
   ]
  },
  {
   "cell_type": "code",
   "execution_count": 33,
   "id": "d650c36d",
   "metadata": {
    "ExecuteTime": {
     "end_time": "2023-03-22T00:04:25.662563Z",
     "start_time": "2023-03-22T00:04:25.647367Z"
    }
   },
   "outputs": [
    {
     "data": {
      "text/html": [
       "<div>\n",
       "<style scoped>\n",
       "    .dataframe tbody tr th:only-of-type {\n",
       "        vertical-align: middle;\n",
       "    }\n",
       "\n",
       "    .dataframe tbody tr th {\n",
       "        vertical-align: top;\n",
       "    }\n",
       "\n",
       "    .dataframe thead th {\n",
       "        text-align: right;\n",
       "    }\n",
       "</style>\n",
       "<table border=\"1\" class=\"dataframe\">\n",
       "  <thead>\n",
       "    <tr style=\"text-align: right;\">\n",
       "      <th></th>\n",
       "      <th>java</th>\n",
       "      <th>python</th>\n",
       "      <th>db</th>\n",
       "      <th>html/css</th>\n",
       "    </tr>\n",
       "  </thead>\n",
       "  <tbody>\n",
       "    <tr>\n",
       "      <th>eh</th>\n",
       "      <td>85</td>\n",
       "      <td>95</td>\n",
       "      <td>85</td>\n",
       "      <td>75</td>\n",
       "    </tr>\n",
       "  </tbody>\n",
       "</table>\n",
       "</div>"
      ],
      "text/plain": [
       "    java  python  db  html/css\n",
       "eh    85      95  85        75"
      ]
     },
     "execution_count": 33,
     "metadata": {},
     "output_type": "execute_result"
    }
   ],
   "source": [
    "# df[:] => 행 인덱싱\n",
    "df_stu['java' : 'python']\n",
    "df_stu['dw':'eh']\n",
    "df_stu[1:]"
   ]
  },
  {
   "cell_type": "markdown",
   "id": "eda723f5",
   "metadata": {},
   "source": [
    "#### 행과 열에 접근하는 인덱서\n",
    "- df[]  ==> 컬럼인덱싱  \n",
    "- df[:] ==> 행인덱싱  \n",
    "  ====> 불편\n",
    "- loc, iloc 인덱서 등장\n",
    "- df.loc[행], df.loc[행,열] , df.loc[행:행, [열1, 열3]]  \n",
    "  ✔ 실제 인덱스명 또는 컬럼명을 사용하여 데이터 접근\n",
    "- df.iloc[행], df.iloc[행,열]  \n",
    "  ✔ numpy array 인덱스 값을 사용하여 데이터 접근"
   ]
  },
  {
   "cell_type": "code",
   "execution_count": 34,
   "id": "28d7411d",
   "metadata": {
    "ExecuteTime": {
     "end_time": "2023-03-22T00:04:25.678521Z",
     "start_time": "2023-03-22T00:04:25.664559Z"
    }
   },
   "outputs": [
    {
     "data": {
      "text/html": [
       "<div>\n",
       "<style scoped>\n",
       "    .dataframe tbody tr th:only-of-type {\n",
       "        vertical-align: middle;\n",
       "    }\n",
       "\n",
       "    .dataframe tbody tr th {\n",
       "        vertical-align: top;\n",
       "    }\n",
       "\n",
       "    .dataframe thead th {\n",
       "        text-align: right;\n",
       "    }\n",
       "</style>\n",
       "<table border=\"1\" class=\"dataframe\">\n",
       "  <thead>\n",
       "    <tr style=\"text-align: right;\">\n",
       "      <th></th>\n",
       "      <th>java</th>\n",
       "      <th>python</th>\n",
       "      <th>db</th>\n",
       "      <th>html/css</th>\n",
       "    </tr>\n",
       "  </thead>\n",
       "  <tbody>\n",
       "    <tr>\n",
       "      <th>dw</th>\n",
       "      <td>95</td>\n",
       "      <td>100</td>\n",
       "      <td>85</td>\n",
       "      <td>70</td>\n",
       "    </tr>\n",
       "  </tbody>\n",
       "</table>\n",
       "</div>"
      ],
      "text/plain": [
       "    java  python  db  html/css\n",
       "dw    95     100  85        70"
      ]
     },
     "execution_count": 34,
     "metadata": {},
     "output_type": "execute_result"
    }
   ],
   "source": [
    "# dw 행 데이터 접근\n",
    "# loc : 눈에 보이는 label 라벨 값\n",
    "df_stu.loc[['dw']]"
   ]
  },
  {
   "cell_type": "code",
   "execution_count": 35,
   "id": "0d545fce",
   "metadata": {
    "ExecuteTime": {
     "end_time": "2023-03-22T00:04:25.693970Z",
     "start_time": "2023-03-22T00:04:25.680517Z"
    }
   },
   "outputs": [
    {
     "data": {
      "text/html": [
       "<div>\n",
       "<style scoped>\n",
       "    .dataframe tbody tr th:only-of-type {\n",
       "        vertical-align: middle;\n",
       "    }\n",
       "\n",
       "    .dataframe tbody tr th {\n",
       "        vertical-align: top;\n",
       "    }\n",
       "\n",
       "    .dataframe thead th {\n",
       "        text-align: right;\n",
       "    }\n",
       "</style>\n",
       "<table border=\"1\" class=\"dataframe\">\n",
       "  <thead>\n",
       "    <tr style=\"text-align: right;\">\n",
       "      <th></th>\n",
       "      <th>java</th>\n",
       "      <th>python</th>\n",
       "      <th>db</th>\n",
       "      <th>html/css</th>\n",
       "    </tr>\n",
       "  </thead>\n",
       "  <tbody>\n",
       "    <tr>\n",
       "      <th>dw</th>\n",
       "      <td>95</td>\n",
       "      <td>100</td>\n",
       "      <td>85</td>\n",
       "      <td>70</td>\n",
       "    </tr>\n",
       "  </tbody>\n",
       "</table>\n",
       "</div>"
      ],
      "text/plain": [
       "    java  python  db  html/css\n",
       "dw    95     100  85        70"
      ]
     },
     "execution_count": 35,
     "metadata": {},
     "output_type": "execute_result"
    }
   ],
   "source": [
    "# iloc : 인덱스 값 데이터 접근\n",
    "df_stu.iloc[[0]]\n"
   ]
  },
  {
   "cell_type": "code",
   "execution_count": 36,
   "id": "33eabb08",
   "metadata": {
    "ExecuteTime": {
     "end_time": "2023-03-22T00:04:25.708913Z",
     "start_time": "2023-03-22T00:04:25.695925Z"
    }
   },
   "outputs": [
    {
     "data": {
      "text/html": [
       "<div>\n",
       "<style scoped>\n",
       "    .dataframe tbody tr th:only-of-type {\n",
       "        vertical-align: middle;\n",
       "    }\n",
       "\n",
       "    .dataframe tbody tr th {\n",
       "        vertical-align: top;\n",
       "    }\n",
       "\n",
       "    .dataframe thead th {\n",
       "        text-align: right;\n",
       "    }\n",
       "</style>\n",
       "<table border=\"1\" class=\"dataframe\">\n",
       "  <thead>\n",
       "    <tr style=\"text-align: right;\">\n",
       "      <th></th>\n",
       "      <th>java</th>\n",
       "      <th>python</th>\n",
       "      <th>db</th>\n",
       "      <th>html/css</th>\n",
       "    </tr>\n",
       "  </thead>\n",
       "  <tbody>\n",
       "    <tr>\n",
       "      <th>dw</th>\n",
       "      <td>95</td>\n",
       "      <td>100</td>\n",
       "      <td>85</td>\n",
       "      <td>70</td>\n",
       "    </tr>\n",
       "    <tr>\n",
       "      <th>eh</th>\n",
       "      <td>85</td>\n",
       "      <td>95</td>\n",
       "      <td>85</td>\n",
       "      <td>75</td>\n",
       "    </tr>\n",
       "  </tbody>\n",
       "</table>\n",
       "</div>"
      ],
      "text/plain": [
       "    java  python  db  html/css\n",
       "dw    95     100  85        70\n",
       "eh    85      95  85        75"
      ]
     },
     "execution_count": 36,
     "metadata": {},
     "output_type": "execute_result"
    }
   ],
   "source": [
    "# df_stu dw, eh 행인덱싱\n",
    "df_stu.iloc[:]"
   ]
  },
  {
   "cell_type": "code",
   "execution_count": 37,
   "id": "d9f5f62e",
   "metadata": {
    "ExecuteTime": {
     "end_time": "2023-03-22T00:04:25.721624Z",
     "start_time": "2023-03-22T00:04:25.710886Z"
    }
   },
   "outputs": [
    {
     "data": {
      "text/html": [
       "<div>\n",
       "<style scoped>\n",
       "    .dataframe tbody tr th:only-of-type {\n",
       "        vertical-align: middle;\n",
       "    }\n",
       "\n",
       "    .dataframe tbody tr th {\n",
       "        vertical-align: top;\n",
       "    }\n",
       "\n",
       "    .dataframe thead th {\n",
       "        text-align: right;\n",
       "    }\n",
       "</style>\n",
       "<table border=\"1\" class=\"dataframe\">\n",
       "  <thead>\n",
       "    <tr style=\"text-align: right;\">\n",
       "      <th></th>\n",
       "      <th>java</th>\n",
       "    </tr>\n",
       "  </thead>\n",
       "  <tbody>\n",
       "    <tr>\n",
       "      <th>dw</th>\n",
       "      <td>95</td>\n",
       "    </tr>\n",
       "  </tbody>\n",
       "</table>\n",
       "</div>"
      ],
      "text/plain": [
       "    java\n",
       "dw    95"
      ]
     },
     "execution_count": 37,
     "metadata": {},
     "output_type": "execute_result"
    }
   ],
   "source": [
    "# df_stu iloc 열 접근\n",
    "# java 컬럼 접근해보기\n",
    "df_stu.iloc[:,[0]]\n",
    "\n",
    "# dw, java 점수 접근\n",
    "df_stu.iloc[:1,[0]]"
   ]
  },
  {
   "cell_type": "code",
   "execution_count": 38,
   "id": "f308ef85",
   "metadata": {
    "ExecuteTime": {
     "end_time": "2023-03-22T00:04:25.737105Z",
     "start_time": "2023-03-22T00:04:25.721624Z"
    }
   },
   "outputs": [
    {
     "data": {
      "text/html": [
       "<div>\n",
       "<style scoped>\n",
       "    .dataframe tbody tr th:only-of-type {\n",
       "        vertical-align: middle;\n",
       "    }\n",
       "\n",
       "    .dataframe tbody tr th {\n",
       "        vertical-align: top;\n",
       "    }\n",
       "\n",
       "    .dataframe thead th {\n",
       "        text-align: right;\n",
       "    }\n",
       "</style>\n",
       "<table border=\"1\" class=\"dataframe\">\n",
       "  <thead>\n",
       "    <tr style=\"text-align: right;\">\n",
       "      <th></th>\n",
       "      <th>python</th>\n",
       "      <th>html/css</th>\n",
       "    </tr>\n",
       "  </thead>\n",
       "  <tbody>\n",
       "    <tr>\n",
       "      <th>dw</th>\n",
       "      <td>100</td>\n",
       "      <td>70</td>\n",
       "    </tr>\n",
       "  </tbody>\n",
       "</table>\n",
       "</div>"
      ],
      "text/plain": [
       "    python  html/css\n",
       "dw     100        70"
      ]
     },
     "execution_count": 38,
     "metadata": {},
     "output_type": "execute_result"
    }
   ],
   "source": [
    "# df_stu dw의 python, html/css 점수에 접근해보기\n",
    "df_stu.iloc[:1,[1,3]]"
   ]
  },
  {
   "cell_type": "markdown",
   "id": "9439ec49",
   "metadata": {},
   "source": [
    "#### DataFrame 불리언 인덱싱\n",
    "- 논리 연산자를 활용하여 데이터 접근"
   ]
  },
  {
   "cell_type": "code",
   "execution_count": 39,
   "id": "c77cc9a9",
   "metadata": {
    "ExecuteTime": {
     "end_time": "2023-03-22T00:04:25.753063Z",
     "start_time": "2023-03-22T00:04:25.739101Z"
    }
   },
   "outputs": [],
   "source": [
    "# 행 데이터 추가\n",
    "df_stu.loc['dh'] = [95, 95, 85, 100]"
   ]
  },
  {
   "cell_type": "code",
   "execution_count": 40,
   "id": "9a812f8e",
   "metadata": {
    "ExecuteTime": {
     "end_time": "2023-03-22T00:04:25.769020Z",
     "start_time": "2023-03-22T00:04:25.755059Z"
    }
   },
   "outputs": [
    {
     "data": {
      "text/html": [
       "<div>\n",
       "<style scoped>\n",
       "    .dataframe tbody tr th:only-of-type {\n",
       "        vertical-align: middle;\n",
       "    }\n",
       "\n",
       "    .dataframe tbody tr th {\n",
       "        vertical-align: top;\n",
       "    }\n",
       "\n",
       "    .dataframe thead th {\n",
       "        text-align: right;\n",
       "    }\n",
       "</style>\n",
       "<table border=\"1\" class=\"dataframe\">\n",
       "  <thead>\n",
       "    <tr style=\"text-align: right;\">\n",
       "      <th></th>\n",
       "      <th>java</th>\n",
       "      <th>python</th>\n",
       "      <th>db</th>\n",
       "      <th>html/css</th>\n",
       "      <th>ml</th>\n",
       "    </tr>\n",
       "  </thead>\n",
       "  <tbody>\n",
       "    <tr>\n",
       "      <th>dw</th>\n",
       "      <td>95</td>\n",
       "      <td>100</td>\n",
       "      <td>85</td>\n",
       "      <td>70</td>\n",
       "      <td>100</td>\n",
       "    </tr>\n",
       "    <tr>\n",
       "      <th>eh</th>\n",
       "      <td>85</td>\n",
       "      <td>95</td>\n",
       "      <td>85</td>\n",
       "      <td>75</td>\n",
       "      <td>100</td>\n",
       "    </tr>\n",
       "    <tr>\n",
       "      <th>dh</th>\n",
       "      <td>95</td>\n",
       "      <td>95</td>\n",
       "      <td>85</td>\n",
       "      <td>100</td>\n",
       "      <td>100</td>\n",
       "    </tr>\n",
       "  </tbody>\n",
       "</table>\n",
       "</div>"
      ],
      "text/plain": [
       "    java  python  db  html/css   ml\n",
       "dw    95     100  85        70  100\n",
       "eh    85      95  85        75  100\n",
       "dh    95      95  85       100  100"
      ]
     },
     "execution_count": 40,
     "metadata": {},
     "output_type": "execute_result"
    }
   ],
   "source": [
    "# 컬럼 추가\n",
    "# 1. 컬럼 접근(없는 이름) # 2. 대입\n",
    "df_stu.loc[:,'ml'] = [100,100,100]\n",
    "df_stu"
   ]
  },
  {
   "cell_type": "code",
   "execution_count": 41,
   "id": "326555cf",
   "metadata": {
    "ExecuteTime": {
     "end_time": "2023-03-22T00:04:25.800148Z",
     "start_time": "2023-03-22T00:04:25.779228Z"
    }
   },
   "outputs": [
    {
     "data": {
      "text/plain": [
       "dw     True\n",
       "eh    False\n",
       "dh     True\n",
       "Name: java, dtype: bool"
      ]
     },
     "metadata": {},
     "output_type": "display_data"
    },
    {
     "data": {
      "text/html": [
       "<div>\n",
       "<style scoped>\n",
       "    .dataframe tbody tr th:only-of-type {\n",
       "        vertical-align: middle;\n",
       "    }\n",
       "\n",
       "    .dataframe tbody tr th {\n",
       "        vertical-align: top;\n",
       "    }\n",
       "\n",
       "    .dataframe thead th {\n",
       "        text-align: right;\n",
       "    }\n",
       "</style>\n",
       "<table border=\"1\" class=\"dataframe\">\n",
       "  <thead>\n",
       "    <tr style=\"text-align: right;\">\n",
       "      <th></th>\n",
       "      <th>java</th>\n",
       "      <th>python</th>\n",
       "      <th>db</th>\n",
       "      <th>html/css</th>\n",
       "      <th>ml</th>\n",
       "    </tr>\n",
       "  </thead>\n",
       "  <tbody>\n",
       "    <tr>\n",
       "      <th>dw</th>\n",
       "      <td>95</td>\n",
       "      <td>100</td>\n",
       "      <td>85</td>\n",
       "      <td>70</td>\n",
       "      <td>100</td>\n",
       "    </tr>\n",
       "    <tr>\n",
       "      <th>dh</th>\n",
       "      <td>95</td>\n",
       "      <td>95</td>\n",
       "      <td>85</td>\n",
       "      <td>100</td>\n",
       "      <td>100</td>\n",
       "    </tr>\n",
       "  </tbody>\n",
       "</table>\n",
       "</div>"
      ],
      "text/plain": [
       "    java  python  db  html/css   ml\n",
       "dw    95     100  85        70  100\n",
       "dh    95      95  85       100  100"
      ]
     },
     "metadata": {},
     "output_type": "display_data"
    },
    {
     "data": {
      "text/plain": [
       "Index(['dw', 'dh'], dtype='object')"
      ]
     },
     "execution_count": 41,
     "metadata": {},
     "output_type": "execute_result"
    }
   ],
   "source": [
    "# java 성적에서 90 이상인 사람의 이름\n",
    "# 1. java 컬럼 접근\n",
    "# 2. 논리 연산자로 조건 질문 던지기\n",
    "# 3. True, False -> data에 대입 (masking)\n",
    "display(df_stu.loc[:,'java'] >= 90)\n",
    "display(df_stu[df_stu['java']>=90])\n",
    "df_stu[df_stu['java']>=90].index # 불리언 인덱싱이 행 인덱싱으로 작용"
   ]
  },
  {
   "cell_type": "code",
   "execution_count": 42,
   "id": "b1a263c8",
   "metadata": {
    "ExecuteTime": {
     "end_time": "2023-03-22T00:04:25.812633Z",
     "start_time": "2023-03-22T00:04:25.802156Z"
    }
   },
   "outputs": [
    {
     "data": {
      "text/plain": [
       "1"
      ]
     },
     "metadata": {},
     "output_type": "display_data"
    },
    {
     "data": {
      "text/plain": [
       "1"
      ]
     },
     "metadata": {},
     "output_type": "display_data"
    },
    {
     "name": "stdout",
     "output_type": "stream",
     "text": [
      "python 성적이 100점인 사람은 몇명인가? 1\n"
     ]
    }
   ],
   "source": [
    "# python 성적이 100점인 사람은 몇명인가?\n",
    "\n",
    "display(len(df_stu[df_stu['python'] == 100].index))\n",
    "display(df_stu[df_stu['python'] == 100].index.size)\n",
    "result=df_stu[df_stu['python'] == 100].shape[0]\n",
    "print(f'python 성적이 100점인 사람은 몇명인가? {result}')"
   ]
  },
  {
   "cell_type": "code",
   "execution_count": 43,
   "id": "8013e519",
   "metadata": {
    "ExecuteTime": {
     "end_time": "2023-03-22T00:04:25.828253Z",
     "start_time": "2023-03-22T00:04:25.812633Z"
    }
   },
   "outputs": [
    {
     "data": {
      "text/plain": [
       "java        False\n",
       "python       True\n",
       "db          False\n",
       "html/css    False\n",
       "ml           True\n",
       "Name: dw, dtype: bool"
      ]
     },
     "execution_count": 43,
     "metadata": {},
     "output_type": "execute_result"
    }
   ],
   "source": [
    "df_stu.iloc[0]==100"
   ]
  },
  {
   "cell_type": "code",
   "execution_count": 44,
   "id": "2d924812",
   "metadata": {
    "ExecuteTime": {
     "end_time": "2023-03-22T00:04:25.844242Z",
     "start_time": "2023-03-22T00:04:25.830249Z"
    }
   },
   "outputs": [],
   "source": [
    "\n",
    "# df_stud[df_stu.iloc[0]==100] \n",
    "# ==> iloc 인덱서는 불리언 인덱싱과 호환이 안됨\n"
   ]
  },
  {
   "cell_type": "markdown",
   "id": "ed71e469",
   "metadata": {},
   "source": [
    "### Pandas 유용한 함수"
   ]
  },
  {
   "cell_type": "markdown",
   "id": "f31101e7",
   "metadata": {},
   "source": [
    "#### value_counts() : 값이 등장한 횟수 세는 기능"
   ]
  },
  {
   "cell_type": "code",
   "execution_count": 45,
   "id": "e96afbff",
   "metadata": {
    "ExecuteTime": {
     "end_time": "2023-03-22T00:04:25.860192Z",
     "start_time": "2023-03-22T00:04:25.846246Z"
    }
   },
   "outputs": [
    {
     "data": {
      "text/html": [
       "<div>\n",
       "<style scoped>\n",
       "    .dataframe tbody tr th:only-of-type {\n",
       "        vertical-align: middle;\n",
       "    }\n",
       "\n",
       "    .dataframe tbody tr th {\n",
       "        vertical-align: top;\n",
       "    }\n",
       "\n",
       "    .dataframe thead th {\n",
       "        text-align: right;\n",
       "    }\n",
       "</style>\n",
       "<table border=\"1\" class=\"dataframe\">\n",
       "  <thead>\n",
       "    <tr style=\"text-align: right;\">\n",
       "      <th></th>\n",
       "      <th>java</th>\n",
       "      <th>python</th>\n",
       "      <th>db</th>\n",
       "      <th>html/css</th>\n",
       "      <th>ml</th>\n",
       "    </tr>\n",
       "  </thead>\n",
       "  <tbody>\n",
       "    <tr>\n",
       "      <th>dw</th>\n",
       "      <td>95</td>\n",
       "      <td>100</td>\n",
       "      <td>85</td>\n",
       "      <td>70</td>\n",
       "      <td>100</td>\n",
       "    </tr>\n",
       "    <tr>\n",
       "      <th>eh</th>\n",
       "      <td>85</td>\n",
       "      <td>95</td>\n",
       "      <td>85</td>\n",
       "      <td>75</td>\n",
       "      <td>100</td>\n",
       "    </tr>\n",
       "    <tr>\n",
       "      <th>dh</th>\n",
       "      <td>95</td>\n",
       "      <td>95</td>\n",
       "      <td>85</td>\n",
       "      <td>100</td>\n",
       "      <td>100</td>\n",
       "    </tr>\n",
       "  </tbody>\n",
       "</table>\n",
       "</div>"
      ],
      "text/plain": [
       "    java  python  db  html/css   ml\n",
       "dw    95     100  85        70  100\n",
       "eh    85      95  85        75  100\n",
       "dh    95      95  85       100  100"
      ]
     },
     "execution_count": 45,
     "metadata": {},
     "output_type": "execute_result"
    }
   ],
   "source": [
    "df_stu"
   ]
  },
  {
   "cell_type": "code",
   "execution_count": 46,
   "id": "52b08c2f",
   "metadata": {
    "ExecuteTime": {
     "end_time": "2023-03-22T00:04:25.882266Z",
     "start_time": "2023-03-22T00:04:25.862163Z"
    }
   },
   "outputs": [
    {
     "data": {
      "text/plain": [
       "95    2\n",
       "85    1\n",
       "Name: java, dtype: int64"
      ]
     },
     "execution_count": 46,
     "metadata": {},
     "output_type": "execute_result"
    }
   ],
   "source": [
    "df_stu['java'].value_counts()"
   ]
  },
  {
   "cell_type": "code",
   "execution_count": 47,
   "id": "02e29630",
   "metadata": {
    "ExecuteTime": {
     "end_time": "2023-03-22T00:04:25.897940Z",
     "start_time": "2023-03-22T00:04:25.882612Z"
    }
   },
   "outputs": [
    {
     "data": {
      "text/plain": [
       "95     2\n",
       "100    1\n",
       "Name: python, dtype: int64"
      ]
     },
     "execution_count": 47,
     "metadata": {},
     "output_type": "execute_result"
    }
   ],
   "source": [
    "# python에서 가장 많이 나온 성적 개수는? (빈도수가 높은 성적은?)\n",
    "df_stu['python'].value_counts()"
   ]
  },
  {
   "cell_type": "code",
   "execution_count": 48,
   "id": "2fdbb518",
   "metadata": {
    "ExecuteTime": {
     "end_time": "2023-03-22T00:04:25.912409Z",
     "start_time": "2023-03-22T00:04:25.899102Z"
    }
   },
   "outputs": [],
   "source": [
    "# 빈도수 파악 -> 카테고리형식(범주형) 데이터에 자주 사용\n",
    "# 기술통계량 파악 -> 값의 크고 작음의 의미가 있는 숫자데이터(수치형) 자주 사용"
   ]
  },
  {
   "cell_type": "markdown",
   "id": "d10d05ba",
   "metadata": {},
   "source": [
    "#### sort_values(), sort_index() : 정렬하는 함수"
   ]
  },
  {
   "cell_type": "code",
   "execution_count": 49,
   "id": "9fed595a",
   "metadata": {
    "ExecuteTime": {
     "end_time": "2023-03-22T00:04:25.927862Z",
     "start_time": "2023-03-22T00:04:25.912409Z"
    }
   },
   "outputs": [
    {
     "data": {
      "text/plain": [
       "도시\n",
       "서울    9602000\n",
       "부산    3344000\n",
       "대구    2419000\n",
       "천안     660000\n",
       "거제     250000\n",
       "Name: 2020 인구, dtype: int64"
      ]
     },
     "execution_count": 49,
     "metadata": {},
     "output_type": "execute_result"
    }
   ],
   "source": [
    "# value 값 기준 정렬, 기본값: 오름차순 정렬\n",
    "pop.sort_values(ascending = False)"
   ]
  },
  {
   "cell_type": "code",
   "execution_count": 50,
   "id": "cc76d1f6",
   "metadata": {
    "ExecuteTime": {
     "end_time": "2023-03-22T00:04:25.943485Z",
     "start_time": "2023-03-22T00:04:25.927862Z"
    }
   },
   "outputs": [
    {
     "data": {
      "text/plain": [
       "도시\n",
       "천안     660000\n",
       "서울    9602000\n",
       "부산    3344000\n",
       "대구    2419000\n",
       "거제     250000\n",
       "Name: 2020 인구, dtype: int64"
      ]
     },
     "execution_count": 50,
     "metadata": {},
     "output_type": "execute_result"
    }
   ],
   "source": [
    "pop.sort_index(ascending = False)"
   ]
  },
  {
   "cell_type": "markdown",
   "id": "10082102",
   "metadata": {},
   "source": [
    "#### drop() : 데이터를 삭제하는 함수\n",
    "- 행 이름 삭제해줘, 컬럼 이름 삭제해줘\n",
    "- axis = 0(행방향으로 데이터 확인), axis = 1(열방향으로 데이터 확인)"
   ]
  },
  {
   "cell_type": "code",
   "execution_count": 51,
   "id": "ac263a76",
   "metadata": {
    "ExecuteTime": {
     "end_time": "2023-03-22T00:04:25.961610Z",
     "start_time": "2023-03-22T00:04:25.945664Z"
    }
   },
   "outputs": [
    {
     "data": {
      "text/html": [
       "<div>\n",
       "<style scoped>\n",
       "    .dataframe tbody tr th:only-of-type {\n",
       "        vertical-align: middle;\n",
       "    }\n",
       "\n",
       "    .dataframe tbody tr th {\n",
       "        vertical-align: top;\n",
       "    }\n",
       "\n",
       "    .dataframe thead th {\n",
       "        text-align: right;\n",
       "    }\n",
       "</style>\n",
       "<table border=\"1\" class=\"dataframe\">\n",
       "  <thead>\n",
       "    <tr style=\"text-align: right;\">\n",
       "      <th></th>\n",
       "      <th>java</th>\n",
       "      <th>python</th>\n",
       "      <th>db</th>\n",
       "      <th>html/css</th>\n",
       "      <th>ml</th>\n",
       "    </tr>\n",
       "  </thead>\n",
       "  <tbody>\n",
       "    <tr>\n",
       "      <th>dw</th>\n",
       "      <td>95</td>\n",
       "      <td>100</td>\n",
       "      <td>85</td>\n",
       "      <td>70</td>\n",
       "      <td>100</td>\n",
       "    </tr>\n",
       "    <tr>\n",
       "      <th>eh</th>\n",
       "      <td>85</td>\n",
       "      <td>95</td>\n",
       "      <td>85</td>\n",
       "      <td>75</td>\n",
       "      <td>100</td>\n",
       "    </tr>\n",
       "  </tbody>\n",
       "</table>\n",
       "</div>"
      ],
      "text/plain": [
       "    java  python  db  html/css   ml\n",
       "dw    95     100  85        70  100\n",
       "eh    85      95  85        75  100"
      ]
     },
     "execution_count": 51,
     "metadata": {},
     "output_type": "execute_result"
    }
   ],
   "source": [
    "# 행 데이터 삭제\n",
    "df_stu.drop('dh')"
   ]
  },
  {
   "cell_type": "code",
   "execution_count": 52,
   "id": "7b6bc760",
   "metadata": {
    "ExecuteTime": {
     "end_time": "2023-03-22T00:04:25.977213Z",
     "start_time": "2023-03-22T00:04:25.962530Z"
    }
   },
   "outputs": [],
   "source": [
    "# 열 데이터 삭제\n",
    "df_stu.drop('ml', axis=1, inplace = True)"
   ]
  },
  {
   "cell_type": "code",
   "execution_count": 53,
   "id": "fca0e5c7",
   "metadata": {
    "ExecuteTime": {
     "end_time": "2023-03-22T00:04:25.993512Z",
     "start_time": "2023-03-22T00:04:25.977889Z"
    },
    "scrolled": true
   },
   "outputs": [
    {
     "data": {
      "text/html": [
       "<div>\n",
       "<style scoped>\n",
       "    .dataframe tbody tr th:only-of-type {\n",
       "        vertical-align: middle;\n",
       "    }\n",
       "\n",
       "    .dataframe tbody tr th {\n",
       "        vertical-align: top;\n",
       "    }\n",
       "\n",
       "    .dataframe thead th {\n",
       "        text-align: right;\n",
       "    }\n",
       "</style>\n",
       "<table border=\"1\" class=\"dataframe\">\n",
       "  <thead>\n",
       "    <tr style=\"text-align: right;\">\n",
       "      <th></th>\n",
       "      <th>java</th>\n",
       "      <th>python</th>\n",
       "      <th>db</th>\n",
       "      <th>html/css</th>\n",
       "    </tr>\n",
       "  </thead>\n",
       "  <tbody>\n",
       "    <tr>\n",
       "      <th>dw</th>\n",
       "      <td>95</td>\n",
       "      <td>100</td>\n",
       "      <td>85</td>\n",
       "      <td>70</td>\n",
       "    </tr>\n",
       "    <tr>\n",
       "      <th>eh</th>\n",
       "      <td>85</td>\n",
       "      <td>95</td>\n",
       "      <td>85</td>\n",
       "      <td>75</td>\n",
       "    </tr>\n",
       "    <tr>\n",
       "      <th>dh</th>\n",
       "      <td>95</td>\n",
       "      <td>95</td>\n",
       "      <td>85</td>\n",
       "      <td>100</td>\n",
       "    </tr>\n",
       "  </tbody>\n",
       "</table>\n",
       "</div>"
      ],
      "text/plain": [
       "    java  python  db  html/css\n",
       "dw    95     100  85        70\n",
       "eh    85      95  85        75\n",
       "dh    95      95  85       100"
      ]
     },
     "execution_count": 53,
     "metadata": {},
     "output_type": "execute_result"
    }
   ],
   "source": [
    "df_stu"
   ]
  },
  {
   "cell_type": "markdown",
   "id": "85ae29f1",
   "metadata": {},
   "source": [
    "#### 데이터 불러오는 함수"
   ]
  },
  {
   "cell_type": "code",
   "execution_count": 58,
   "id": "299e6c37",
   "metadata": {
    "ExecuteTime": {
     "end_time": "2023-03-22T00:11:53.159345Z",
     "start_time": "2023-03-22T00:11:53.134210Z"
    }
   },
   "outputs": [
    {
     "data": {
      "text/html": [
       "<div>\n",
       "<style scoped>\n",
       "    .dataframe tbody tr th:only-of-type {\n",
       "        vertical-align: middle;\n",
       "    }\n",
       "\n",
       "    .dataframe tbody tr th {\n",
       "        vertical-align: top;\n",
       "    }\n",
       "\n",
       "    .dataframe thead th {\n",
       "        text-align: right;\n",
       "    }\n",
       "</style>\n",
       "<table border=\"1\" class=\"dataframe\">\n",
       "  <thead>\n",
       "    <tr style=\"text-align: right;\">\n",
       "      <th></th>\n",
       "      <th>1반</th>\n",
       "      <th>2반</th>\n",
       "      <th>3반</th>\n",
       "      <th>4반</th>\n",
       "    </tr>\n",
       "    <tr>\n",
       "      <th>과목</th>\n",
       "      <th></th>\n",
       "      <th></th>\n",
       "      <th></th>\n",
       "      <th></th>\n",
       "    </tr>\n",
       "  </thead>\n",
       "  <tbody>\n",
       "    <tr>\n",
       "      <th>수학</th>\n",
       "      <td>45</td>\n",
       "      <td>44</td>\n",
       "      <td>73</td>\n",
       "      <td>39</td>\n",
       "    </tr>\n",
       "    <tr>\n",
       "      <th>영어</th>\n",
       "      <td>76</td>\n",
       "      <td>92</td>\n",
       "      <td>45</td>\n",
       "      <td>69</td>\n",
       "    </tr>\n",
       "    <tr>\n",
       "      <th>국어</th>\n",
       "      <td>47</td>\n",
       "      <td>92</td>\n",
       "      <td>45</td>\n",
       "      <td>69</td>\n",
       "    </tr>\n",
       "    <tr>\n",
       "      <th>사회</th>\n",
       "      <td>92</td>\n",
       "      <td>81</td>\n",
       "      <td>85</td>\n",
       "      <td>40</td>\n",
       "    </tr>\n",
       "    <tr>\n",
       "      <th>과학</th>\n",
       "      <td>11</td>\n",
       "      <td>79</td>\n",
       "      <td>47</td>\n",
       "      <td>26</td>\n",
       "    </tr>\n",
       "  </tbody>\n",
       "</table>\n",
       "</div>"
      ],
      "text/plain": [
       "    1반  2반  3반  4반\n",
       "과목                \n",
       "수학  45  44  73  39\n",
       "영어  76  92  45  69\n",
       "국어  47  92  45  69\n",
       "사회  92  81  85  40\n",
       "과학  11  79  47  26"
      ]
     },
     "execution_count": 58,
     "metadata": {},
     "output_type": "execute_result"
    }
   ],
   "source": [
    "# 한글 불러오는 encoding 방식 : utf-8, euc-kr, cp949\n",
    "score = pd.read_csv('./data/score.csv', index_col = '과목', encoding= 'euc-kr')\n",
    "# ==> 과목명을 인덱스로 사용하겠다\n",
    "score"
   ]
  },
  {
   "cell_type": "code",
   "execution_count": 103,
   "id": "e1bda229",
   "metadata": {
    "ExecuteTime": {
     "end_time": "2023-03-22T00:45:47.097824Z",
     "start_time": "2023-03-22T00:45:47.075824Z"
    }
   },
   "outputs": [
    {
     "data": {
      "text/plain": [
       "array([[  45.,   44.,   73.,   39.,  804.],\n",
       "       [  76.,   92.,   45.,   69., 1128.],\n",
       "       [  47.,   92.,   45.,   69., 1012.],\n",
       "       [  92.,   81.,   85.,   40., 1192.],\n",
       "       [  11.,   79.,   47.,   26.,  652.]])"
      ]
     },
     "metadata": {},
     "output_type": "display_data"
    },
    {
     "data": {
      "text/plain": [
       "(5, 5)"
      ]
     },
     "metadata": {},
     "output_type": "display_data"
    },
    {
     "data": {
      "text/plain": [
       "dtype('float64')"
      ]
     },
     "metadata": {},
     "output_type": "display_data"
    },
    {
     "data": {
      "text/plain": [
       "dtype('int64')"
      ]
     },
     "metadata": {},
     "output_type": "display_data"
    },
    {
     "data": {
      "text/plain": [
       "Index(['1반', '2반', '3반', '4반', '합계'], dtype='object')"
      ]
     },
     "metadata": {},
     "output_type": "display_data"
    },
    {
     "data": {
      "text/plain": [
       "Index(['수학', '영어', '국어', '사회', '과학'], dtype='object', name='과목')"
      ]
     },
     "metadata": {},
     "output_type": "display_data"
    }
   ],
   "source": [
    "# 데이터 확인하기\n",
    "display(score.values)\n",
    "\n",
    "# 크기 확인\n",
    "display(score.shape)\n",
    "\n",
    "# 데이터 타입\n",
    "# 데이터프레임의 데이터 타입 확인은 각각의 데이터로 접근해야 한다.\n",
    "display(score.values.dtype)\n",
    "display(score['1반'].dtype)\n",
    "\n",
    "# 컬럼명(이름) 확인\n",
    "display(score.columns)\n",
    "\n",
    "# 행이름\n",
    "display(score.index)\n"
   ]
  },
  {
   "cell_type": "markdown",
   "id": "66e600c3",
   "metadata": {},
   "source": [
    "####  데이터  정보 출력하는 함수"
   ]
  },
  {
   "cell_type": "code",
   "execution_count": 82,
   "id": "f1caeeee",
   "metadata": {
    "ExecuteTime": {
     "end_time": "2023-03-22T00:24:04.283325Z",
     "start_time": "2023-03-22T00:24:04.252395Z"
    }
   },
   "outputs": [
    {
     "name": "stdout",
     "output_type": "stream",
     "text": [
      "<class 'pandas.core.frame.DataFrame'>\n",
      "Index: 5 entries, 수학 to 과학\n",
      "Data columns (total 4 columns):\n",
      " #   Column  Non-Null Count  Dtype\n",
      "---  ------  --------------  -----\n",
      " 0   1반      5 non-null      int64\n",
      " 1   2반      5 non-null      int64\n",
      " 2   3반      5 non-null      int64\n",
      " 3   4반      5 non-null      int64\n",
      "dtypes: int64(4)\n",
      "memory usage: 372.0+ bytes\n"
     ]
    }
   ],
   "source": [
    "score.info()"
   ]
  },
  {
   "cell_type": "code",
   "execution_count": 83,
   "id": "9c8e74c7",
   "metadata": {
    "ExecuteTime": {
     "end_time": "2023-03-22T00:26:47.329165Z",
     "start_time": "2023-03-22T00:26:47.308215Z"
    }
   },
   "outputs": [
    {
     "data": {
      "text/html": [
       "<div>\n",
       "<style scoped>\n",
       "    .dataframe tbody tr th:only-of-type {\n",
       "        vertical-align: middle;\n",
       "    }\n",
       "\n",
       "    .dataframe tbody tr th {\n",
       "        vertical-align: top;\n",
       "    }\n",
       "\n",
       "    .dataframe thead th {\n",
       "        text-align: right;\n",
       "    }\n",
       "</style>\n",
       "<table border=\"1\" class=\"dataframe\">\n",
       "  <thead>\n",
       "    <tr style=\"text-align: right;\">\n",
       "      <th></th>\n",
       "      <th>1반</th>\n",
       "      <th>2반</th>\n",
       "      <th>3반</th>\n",
       "      <th>4반</th>\n",
       "    </tr>\n",
       "    <tr>\n",
       "      <th>과목</th>\n",
       "      <th></th>\n",
       "      <th></th>\n",
       "      <th></th>\n",
       "      <th></th>\n",
       "    </tr>\n",
       "  </thead>\n",
       "  <tbody>\n",
       "    <tr>\n",
       "      <th>수학</th>\n",
       "      <td>False</td>\n",
       "      <td>False</td>\n",
       "      <td>False</td>\n",
       "      <td>False</td>\n",
       "    </tr>\n",
       "    <tr>\n",
       "      <th>영어</th>\n",
       "      <td>False</td>\n",
       "      <td>False</td>\n",
       "      <td>False</td>\n",
       "      <td>False</td>\n",
       "    </tr>\n",
       "    <tr>\n",
       "      <th>국어</th>\n",
       "      <td>False</td>\n",
       "      <td>False</td>\n",
       "      <td>False</td>\n",
       "      <td>False</td>\n",
       "    </tr>\n",
       "    <tr>\n",
       "      <th>사회</th>\n",
       "      <td>False</td>\n",
       "      <td>False</td>\n",
       "      <td>False</td>\n",
       "      <td>False</td>\n",
       "    </tr>\n",
       "    <tr>\n",
       "      <th>과학</th>\n",
       "      <td>False</td>\n",
       "      <td>False</td>\n",
       "      <td>False</td>\n",
       "      <td>False</td>\n",
       "    </tr>\n",
       "  </tbody>\n",
       "</table>\n",
       "</div>"
      ],
      "text/plain": [
       "       1반     2반     3반     4반\n",
       "과목                            \n",
       "수학  False  False  False  False\n",
       "영어  False  False  False  False\n",
       "국어  False  False  False  False\n",
       "사회  False  False  False  False\n",
       "과학  False  False  False  False"
      ]
     },
     "execution_count": 83,
     "metadata": {},
     "output_type": "execute_result"
    }
   ],
   "source": [
    "# 결측치 확인하는 함수 : isnull()\n",
    "score.isnull()"
   ]
  },
  {
   "cell_type": "code",
   "execution_count": 85,
   "id": "d65c4fbf",
   "metadata": {
    "ExecuteTime": {
     "end_time": "2023-03-22T00:27:18.271398Z",
     "start_time": "2023-03-22T00:27:18.252435Z"
    }
   },
   "outputs": [
    {
     "data": {
      "text/plain": [
       "1반    0\n",
       "2반    0\n",
       "3반    0\n",
       "4반    0\n",
       "dtype: int64"
      ]
     },
     "execution_count": 85,
     "metadata": {},
     "output_type": "execute_result"
    }
   ],
   "source": [
    "score.isnull().sum()"
   ]
  },
  {
   "cell_type": "markdown",
   "id": "32be841c",
   "metadata": {},
   "source": [
    "#### 총합을 구하는 함수"
   ]
  },
  {
   "cell_type": "code",
   "execution_count": 87,
   "id": "2f10808c",
   "metadata": {
    "ExecuteTime": {
     "end_time": "2023-03-22T00:29:53.586749Z",
     "start_time": "2023-03-22T00:29:53.565831Z"
    }
   },
   "outputs": [
    {
     "data": {
      "text/plain": [
       "1반    0\n",
       "2반    0\n",
       "3반    0\n",
       "4반    0\n",
       "dtype: int64"
      ]
     },
     "execution_count": 87,
     "metadata": {},
     "output_type": "execute_result"
    }
   ],
   "source": [
    "score.isnull().sum(axis = 1) # ==> 열방향"
   ]
  },
  {
   "cell_type": "markdown",
   "id": "78648c05",
   "metadata": {},
   "source": [
    "#### 학급별 순위( 성적이 높은 순부터)"
   ]
  },
  {
   "cell_type": "code",
   "execution_count": 93,
   "id": "298206bb",
   "metadata": {
    "ExecuteTime": {
     "end_time": "2023-03-22T00:34:17.091984Z",
     "start_time": "2023-03-22T00:34:17.079982Z"
    }
   },
   "outputs": [
    {
     "data": {
      "text/plain": [
       "2반    388\n",
       "3반    295\n",
       "1반    271\n",
       "4반    243\n",
       "dtype: int64"
      ]
     },
     "execution_count": 93,
     "metadata": {},
     "output_type": "execute_result"
    }
   ],
   "source": [
    "# 여러개의 컬럼을 정렬하고 싶을 때\n",
    "score.sum().sort_values(ascending=False)\n",
    "# df.sort_values(by = ['컬럼명1', '컬럼명2'], ascending = [False,True])\n",
    "# 컬럼명 1 : 내림차순, 컬럼명 2 : 오름차순\n",
    "# by와 ascending에 입력할 원소의 갯수는 같아야 함."
   ]
  },
  {
   "attachments": {
    "image.png": {
     "image/png": "[encoded data removed]"
    }
   },
   "cell_type": "markdown",
   "id": "badbedcc",
   "metadata": {},
   "source": [
    "#### 과목별 합계를 계산하여 '합계' 컬럼으로 추가하기\n",
    "![image.png](attachment:image.png)"
   ]
  },
  {
   "cell_type": "code",
   "execution_count": 192,
   "id": "1fc6a12b",
   "metadata": {
    "ExecuteTime": {
     "end_time": "2023-03-22T01:37:15.429316Z",
     "start_time": "2023-03-22T01:37:15.415359Z"
    }
   },
   "outputs": [
    {
     "data": {
      "text/html": [
       "<div>\n",
       "<style scoped>\n",
       "    .dataframe tbody tr th:only-of-type {\n",
       "        vertical-align: middle;\n",
       "    }\n",
       "\n",
       "    .dataframe tbody tr th {\n",
       "        vertical-align: top;\n",
       "    }\n",
       "\n",
       "    .dataframe thead th {\n",
       "        text-align: right;\n",
       "    }\n",
       "</style>\n",
       "<table border=\"1\" class=\"dataframe\">\n",
       "  <thead>\n",
       "    <tr style=\"text-align: right;\">\n",
       "      <th></th>\n",
       "      <th>1반</th>\n",
       "      <th>2반</th>\n",
       "      <th>3반</th>\n",
       "      <th>4반</th>\n",
       "      <th>합계</th>\n",
       "      <th>평균</th>\n",
       "    </tr>\n",
       "  </thead>\n",
       "  <tbody>\n",
       "    <tr>\n",
       "      <th>수학</th>\n",
       "      <td>45.0</td>\n",
       "      <td>44.0</td>\n",
       "      <td>73.0</td>\n",
       "      <td>39.0</td>\n",
       "      <td>452.25</td>\n",
       "      <td>50.25</td>\n",
       "    </tr>\n",
       "    <tr>\n",
       "      <th>영어</th>\n",
       "      <td>76.0</td>\n",
       "      <td>92.0</td>\n",
       "      <td>45.0</td>\n",
       "      <td>69.0</td>\n",
       "      <td>634.50</td>\n",
       "      <td>70.50</td>\n",
       "    </tr>\n",
       "    <tr>\n",
       "      <th>국어</th>\n",
       "      <td>47.0</td>\n",
       "      <td>92.0</td>\n",
       "      <td>45.0</td>\n",
       "      <td>69.0</td>\n",
       "      <td>569.25</td>\n",
       "      <td>63.25</td>\n",
       "    </tr>\n",
       "    <tr>\n",
       "      <th>사회</th>\n",
       "      <td>92.0</td>\n",
       "      <td>81.0</td>\n",
       "      <td>85.0</td>\n",
       "      <td>40.0</td>\n",
       "      <td>670.50</td>\n",
       "      <td>74.50</td>\n",
       "    </tr>\n",
       "    <tr>\n",
       "      <th>과학</th>\n",
       "      <td>11.0</td>\n",
       "      <td>79.0</td>\n",
       "      <td>47.0</td>\n",
       "      <td>26.0</td>\n",
       "      <td>366.75</td>\n",
       "      <td>40.75</td>\n",
       "    </tr>\n",
       "    <tr>\n",
       "      <th>반평균</th>\n",
       "      <td>54.2</td>\n",
       "      <td>77.6</td>\n",
       "      <td>59.0</td>\n",
       "      <td>48.6</td>\n",
       "      <td>538.65</td>\n",
       "      <td>59.85</td>\n",
       "    </tr>\n",
       "  </tbody>\n",
       "</table>\n",
       "</div>"
      ],
      "text/plain": [
       "       1반    2반    3반    4반      합계     평균\n",
       "수학   45.0  44.0  73.0  39.0  452.25  50.25\n",
       "영어   76.0  92.0  45.0  69.0  634.50  70.50\n",
       "국어   47.0  92.0  45.0  69.0  569.25  63.25\n",
       "사회   92.0  81.0  85.0  40.0  670.50  74.50\n",
       "과학   11.0  79.0  47.0  26.0  366.75  40.75\n",
       "반평균  54.2  77.6  59.0  48.6  538.65  59.85"
      ]
     },
     "execution_count": 192,
     "metadata": {},
     "output_type": "execute_result"
    }
   ],
   "source": [
    "score_sum = score.sum(axis = 1)\n",
    "score['합계'] = score_sum\n",
    "score"
   ]
  },
  {
   "attachments": {
    "image.png": {
     "image/png": "[encoded data removed]"
    }
   },
   "cell_type": "markdown",
   "id": "a8b7e6c0",
   "metadata": {
    "ExecuteTime": {
     "end_time": "2023-03-22T00:46:08.933974Z",
     "start_time": "2023-03-22T00:46:08.926992Z"
    }
   },
   "source": [
    "#### 과목별 평균을 계산하여 '평균' 컬럼으로 추가하기\n",
    "![image.png](attachment:image.png)"
   ]
  },
  {
   "cell_type": "code",
   "execution_count": 162,
   "id": "37d7634c",
   "metadata": {
    "ExecuteTime": {
     "end_time": "2023-03-22T01:16:28.215998Z",
     "start_time": "2023-03-22T01:16:28.198871Z"
    }
   },
   "outputs": [],
   "source": [
    "score_avg = score_sum/4\n",
    "score['평균'] = score_avg\n",
    "\n",
    "# 선생님 풀이\n",
    "# score_avg = score['합계']/score.columns[:4].size\n",
    "# s_avg = score['합계']/len(score.columns[:4])\n",
    "# score['평균'] = s_avg\n",
    "\n",
    "# 2번째 mean 이용\n",
    "# score.loc[:,:'4반'].mean(axis = 1) ==> 열방향"
   ]
  },
  {
   "cell_type": "code",
   "execution_count": 191,
   "id": "65b55efa",
   "metadata": {
    "ExecuteTime": {
     "end_time": "2023-03-22T01:37:12.342039Z",
     "start_time": "2023-03-22T01:37:12.319822Z"
    }
   },
   "outputs": [
    {
     "data": {
      "text/html": [
       "<div>\n",
       "<style scoped>\n",
       "    .dataframe tbody tr th:only-of-type {\n",
       "        vertical-align: middle;\n",
       "    }\n",
       "\n",
       "    .dataframe tbody tr th {\n",
       "        vertical-align: top;\n",
       "    }\n",
       "\n",
       "    .dataframe thead th {\n",
       "        text-align: right;\n",
       "    }\n",
       "</style>\n",
       "<table border=\"1\" class=\"dataframe\">\n",
       "  <thead>\n",
       "    <tr style=\"text-align: right;\">\n",
       "      <th></th>\n",
       "      <th>1반</th>\n",
       "      <th>2반</th>\n",
       "      <th>3반</th>\n",
       "      <th>4반</th>\n",
       "      <th>합계</th>\n",
       "      <th>평균</th>\n",
       "    </tr>\n",
       "  </thead>\n",
       "  <tbody>\n",
       "    <tr>\n",
       "      <th>수학</th>\n",
       "      <td>45.0</td>\n",
       "      <td>44.0</td>\n",
       "      <td>73.0</td>\n",
       "      <td>39.0</td>\n",
       "      <td>201.0</td>\n",
       "      <td>50.25</td>\n",
       "    </tr>\n",
       "    <tr>\n",
       "      <th>영어</th>\n",
       "      <td>76.0</td>\n",
       "      <td>92.0</td>\n",
       "      <td>45.0</td>\n",
       "      <td>69.0</td>\n",
       "      <td>282.0</td>\n",
       "      <td>70.50</td>\n",
       "    </tr>\n",
       "    <tr>\n",
       "      <th>국어</th>\n",
       "      <td>47.0</td>\n",
       "      <td>92.0</td>\n",
       "      <td>45.0</td>\n",
       "      <td>69.0</td>\n",
       "      <td>253.0</td>\n",
       "      <td>63.25</td>\n",
       "    </tr>\n",
       "    <tr>\n",
       "      <th>사회</th>\n",
       "      <td>92.0</td>\n",
       "      <td>81.0</td>\n",
       "      <td>85.0</td>\n",
       "      <td>40.0</td>\n",
       "      <td>298.0</td>\n",
       "      <td>74.50</td>\n",
       "    </tr>\n",
       "    <tr>\n",
       "      <th>과학</th>\n",
       "      <td>11.0</td>\n",
       "      <td>79.0</td>\n",
       "      <td>47.0</td>\n",
       "      <td>26.0</td>\n",
       "      <td>163.0</td>\n",
       "      <td>40.75</td>\n",
       "    </tr>\n",
       "    <tr>\n",
       "      <th>반평균</th>\n",
       "      <td>54.2</td>\n",
       "      <td>77.6</td>\n",
       "      <td>59.0</td>\n",
       "      <td>48.6</td>\n",
       "      <td>239.4</td>\n",
       "      <td>59.85</td>\n",
       "    </tr>\n",
       "  </tbody>\n",
       "</table>\n",
       "</div>"
      ],
      "text/plain": [
       "       1반    2반    3반    4반     합계     평균\n",
       "수학   45.0  44.0  73.0  39.0  201.0  50.25\n",
       "영어   76.0  92.0  45.0  69.0  282.0  70.50\n",
       "국어   47.0  92.0  45.0  69.0  253.0  63.25\n",
       "사회   92.0  81.0  85.0  40.0  298.0  74.50\n",
       "과학   11.0  79.0  47.0  26.0  163.0  40.75\n",
       "반평균  54.2  77.6  59.0  48.6  239.4  59.85"
      ]
     },
     "execution_count": 191,
     "metadata": {},
     "output_type": "execute_result"
    }
   ],
   "source": [
    "score"
   ]
  },
  {
   "attachments": {
    "image.png": {
     "image/png": "[encoded data removed]"
    }
   },
   "cell_type": "markdown",
   "id": "7601089f",
   "metadata": {},
   "source": [
    "#### 각 반의 평균\n",
    "![image.png](attachment:image.png)"
   ]
  },
  {
   "cell_type": "code",
   "execution_count": 165,
   "id": "04ef6790",
   "metadata": {
    "ExecuteTime": {
     "end_time": "2023-03-22T01:17:19.482555Z",
     "start_time": "2023-03-22T01:17:19.464552Z"
    }
   },
   "outputs": [],
   "source": [
    "c_avg = score.mean()\n",
    "score.loc['반평균'] = c_avg"
   ]
  },
  {
   "cell_type": "code",
   "execution_count": 166,
   "id": "ba7c2a09",
   "metadata": {
    "ExecuteTime": {
     "end_time": "2023-03-22T01:17:20.891481Z",
     "start_time": "2023-03-22T01:17:20.871534Z"
    }
   },
   "outputs": [
    {
     "data": {
      "text/html": [
       "<div>\n",
       "<style scoped>\n",
       "    .dataframe tbody tr th:only-of-type {\n",
       "        vertical-align: middle;\n",
       "    }\n",
       "\n",
       "    .dataframe tbody tr th {\n",
       "        vertical-align: top;\n",
       "    }\n",
       "\n",
       "    .dataframe thead th {\n",
       "        text-align: right;\n",
       "    }\n",
       "</style>\n",
       "<table border=\"1\" class=\"dataframe\">\n",
       "  <thead>\n",
       "    <tr style=\"text-align: right;\">\n",
       "      <th></th>\n",
       "      <th>1반</th>\n",
       "      <th>2반</th>\n",
       "      <th>3반</th>\n",
       "      <th>4반</th>\n",
       "      <th>합계</th>\n",
       "      <th>평균</th>\n",
       "    </tr>\n",
       "  </thead>\n",
       "  <tbody>\n",
       "    <tr>\n",
       "      <th>수학</th>\n",
       "      <td>45.0</td>\n",
       "      <td>44.0</td>\n",
       "      <td>73.0</td>\n",
       "      <td>39.0</td>\n",
       "      <td>201.0</td>\n",
       "      <td>50.25</td>\n",
       "    </tr>\n",
       "    <tr>\n",
       "      <th>영어</th>\n",
       "      <td>76.0</td>\n",
       "      <td>92.0</td>\n",
       "      <td>45.0</td>\n",
       "      <td>69.0</td>\n",
       "      <td>282.0</td>\n",
       "      <td>70.50</td>\n",
       "    </tr>\n",
       "    <tr>\n",
       "      <th>국어</th>\n",
       "      <td>47.0</td>\n",
       "      <td>92.0</td>\n",
       "      <td>45.0</td>\n",
       "      <td>69.0</td>\n",
       "      <td>253.0</td>\n",
       "      <td>63.25</td>\n",
       "    </tr>\n",
       "    <tr>\n",
       "      <th>사회</th>\n",
       "      <td>92.0</td>\n",
       "      <td>81.0</td>\n",
       "      <td>85.0</td>\n",
       "      <td>40.0</td>\n",
       "      <td>298.0</td>\n",
       "      <td>74.50</td>\n",
       "    </tr>\n",
       "    <tr>\n",
       "      <th>과학</th>\n",
       "      <td>11.0</td>\n",
       "      <td>79.0</td>\n",
       "      <td>47.0</td>\n",
       "      <td>26.0</td>\n",
       "      <td>163.0</td>\n",
       "      <td>40.75</td>\n",
       "    </tr>\n",
       "    <tr>\n",
       "      <th>반평균</th>\n",
       "      <td>54.2</td>\n",
       "      <td>77.6</td>\n",
       "      <td>59.0</td>\n",
       "      <td>48.6</td>\n",
       "      <td>239.4</td>\n",
       "      <td>59.85</td>\n",
       "    </tr>\n",
       "  </tbody>\n",
       "</table>\n",
       "</div>"
      ],
      "text/plain": [
       "       1반    2반    3반    4반     합계     평균\n",
       "수학   45.0  44.0  73.0  39.0  201.0  50.25\n",
       "영어   76.0  92.0  45.0  69.0  282.0  70.50\n",
       "국어   47.0  92.0  45.0  69.0  253.0  63.25\n",
       "사회   92.0  81.0  85.0  40.0  298.0  74.50\n",
       "과학   11.0  79.0  47.0  26.0  163.0  40.75\n",
       "반평균  54.2  77.6  59.0  48.6  239.4  59.85"
      ]
     },
     "execution_count": 166,
     "metadata": {},
     "output_type": "execute_result"
    }
   ],
   "source": [
    "score"
   ]
  },
  {
   "cell_type": "markdown",
   "id": "07cc697e",
   "metadata": {},
   "source": [
    "#### 최댓값, 최소값 구하는 함수\n",
    "- max, min"
   ]
  },
  {
   "cell_type": "code",
   "execution_count": 171,
   "id": "4f72f06b",
   "metadata": {
    "ExecuteTime": {
     "end_time": "2023-03-22T01:20:30.880140Z",
     "start_time": "2023-03-22T01:20:30.865031Z"
    }
   },
   "outputs": [
    {
     "data": {
      "text/plain": [
       "수학     201.0\n",
       "영어     282.0\n",
       "국어     253.0\n",
       "사회     298.0\n",
       "과학     163.0\n",
       "반평균    239.4\n",
       "dtype: float64"
      ]
     },
     "metadata": {},
     "output_type": "display_data"
    },
    {
     "data": {
      "text/plain": [
       "1반     11.00\n",
       "2반     44.00\n",
       "3반     45.00\n",
       "4반     26.00\n",
       "합계    163.00\n",
       "평균     40.75\n",
       "dtype: float64"
      ]
     },
     "metadata": {},
     "output_type": "display_data"
    }
   ],
   "source": [
    "# max() : 열방향 최댓값\n",
    "display(score.max(axis = 1))\n",
    "\n",
    "# min() : 행방향 최솟값\n",
    "display(score.min())\n"
   ]
  },
  {
   "attachments": {
    "image.png": {
     "image/png": "[encoded data removed]"
    }
   },
   "cell_type": "markdown",
   "id": "b441e034",
   "metadata": {
    "ExecuteTime": {
     "end_time": "2023-03-22T01:22:11.931642Z",
     "start_time": "2023-03-22T01:22:11.913672Z"
    }
   },
   "source": [
    "##### 1반부터 4반까지 점수 중 과목별 가장 큰 값과 작은 값의 차이를 구하세요.\n",
    "![image.png](attachment:image.png)\n"
   ]
  },
  {
   "cell_type": "code",
   "execution_count": 193,
   "id": "fe8a1733",
   "metadata": {
    "ExecuteTime": {
     "end_time": "2023-03-22T01:37:24.216077Z",
     "start_time": "2023-03-22T01:37:24.196086Z"
    }
   },
   "outputs": [
    {
     "data": {
      "text/plain": [
       "수학    34.0\n",
       "영어    47.0\n",
       "국어    47.0\n",
       "사회    52.0\n",
       "과학    68.0\n",
       "dtype: float64"
      ]
     },
     "execution_count": 193,
     "metadata": {},
     "output_type": "execute_result"
    }
   ],
   "source": [
    "s_max = score.loc[:'과학',:'4반'].max(axis = 1)\n",
    "s_min = score.loc[:'과학',:'4반'].min(axis = 1)\n",
    "s_max - s_min\n"
   ]
  },
  {
   "cell_type": "markdown",
   "id": "5ac247b4",
   "metadata": {},
   "source": [
    "#### cut 함수 : 수치형 데이터 ==> 범주형 데이터 변경"
   ]
  },
  {
   "attachments": {
    "image.png": {
     "image/png": "[encoded data removed]"
    }
   },
   "cell_type": "markdown",
   "id": "0e526b65",
   "metadata": {},
   "source": [
    "![image.png](attachment:image.png)"
   ]
  },
  {
   "cell_type": "code",
   "execution_count": 194,
   "id": "2b4f37bf",
   "metadata": {
    "ExecuteTime": {
     "end_time": "2023-03-22T01:46:49.726172Z",
     "start_time": "2023-03-22T01:46:49.699867Z"
    }
   },
   "outputs": [
    {
     "data": {
      "text/plain": [
       "['미성년자', '미성년자', '미성년자', '청년', '청년', ..., '노년', '청년', '중년', '장년', '노년']\n",
       "Length: 12\n",
       "Categories (5, object): ['미성년자' < '청년' < '장년' < '중년' < '노년']"
      ]
     },
     "execution_count": 194,
     "metadata": {},
     "output_type": "execute_result"
    }
   ],
   "source": [
    "ages = [0,2,10,21,23,37,31,61,20,41,32,100]\n",
    "bins = [-1, 15, 30, 40, 60, 100] # 구간 설정 , 시작값은 포함되지 않고 끝값은 포함됨\n",
    "labels = ['미성년자', '청년', '장년', '중년', '노년']\n",
    "cats = pd.cut(ages, bins = bins, labels = labels)\n",
    "cats"
   ]
  },
  {
   "cell_type": "code",
   "execution_count": 197,
   "id": "89ec499d",
   "metadata": {
    "ExecuteTime": {
     "end_time": "2023-03-22T01:47:41.560044Z",
     "start_time": "2023-03-22T01:47:41.539579Z"
    }
   },
   "outputs": [
    {
     "data": {
      "text/plain": [
       "0     미성년자\n",
       "1     미성년자\n",
       "2     미성년자\n",
       "3       청년\n",
       "4       청년\n",
       "5       장년\n",
       "6       장년\n",
       "7       노년\n",
       "8       청년\n",
       "9       중년\n",
       "10      장년\n",
       "11      노년\n",
       "dtype: category\n",
       "Categories (5, object): ['미성년자' < '청년' < '장년' < '중년' < '노년']"
      ]
     },
     "execution_count": 197,
     "metadata": {},
     "output_type": "execute_result"
    }
   ],
   "source": [
    "pd.Series(cats)"
   ]
  },
  {
   "cell_type": "markdown",
   "id": "8e8ab1b1",
   "metadata": {},
   "source": [
    "#### groupby() : 데이터를 그룹별로 묶어 집계를 낼 수 있게 해주는 함수"
   ]
  },
  {
   "cell_type": "code",
   "execution_count": 198,
   "id": "6749c4c0",
   "metadata": {
    "ExecuteTime": {
     "end_time": "2023-03-22T02:01:40.583232Z",
     "start_time": "2023-03-22T02:01:40.569172Z"
    }
   },
   "outputs": [
    {
     "data": {
      "text/html": [
       "<div>\n",
       "<style scoped>\n",
       "    .dataframe tbody tr th:only-of-type {\n",
       "        vertical-align: middle;\n",
       "    }\n",
       "\n",
       "    .dataframe tbody tr th {\n",
       "        vertical-align: top;\n",
       "    }\n",
       "\n",
       "    .dataframe thead th {\n",
       "        text-align: right;\n",
       "    }\n",
       "</style>\n",
       "<table border=\"1\" class=\"dataframe\">\n",
       "  <thead>\n",
       "    <tr style=\"text-align: right;\">\n",
       "      <th></th>\n",
       "      <th>Servived</th>\n",
       "      <th>Sex</th>\n",
       "      <th>PassengerId</th>\n",
       "    </tr>\n",
       "  </thead>\n",
       "  <tbody>\n",
       "    <tr>\n",
       "      <th>0</th>\n",
       "      <td>1</td>\n",
       "      <td>female</td>\n",
       "      <td>1</td>\n",
       "    </tr>\n",
       "    <tr>\n",
       "      <th>1</th>\n",
       "      <td>0</td>\n",
       "      <td>female</td>\n",
       "      <td>2</td>\n",
       "    </tr>\n",
       "    <tr>\n",
       "      <th>2</th>\n",
       "      <td>1</td>\n",
       "      <td>male</td>\n",
       "      <td>3</td>\n",
       "    </tr>\n",
       "    <tr>\n",
       "      <th>3</th>\n",
       "      <td>0</td>\n",
       "      <td>male</td>\n",
       "      <td>4</td>\n",
       "    </tr>\n",
       "    <tr>\n",
       "      <th>4</th>\n",
       "      <td>1</td>\n",
       "      <td>female</td>\n",
       "      <td>5</td>\n",
       "    </tr>\n",
       "  </tbody>\n",
       "</table>\n",
       "</div>"
      ],
      "text/plain": [
       "   Servived     Sex  PassengerId\n",
       "0         1  female            1\n",
       "1         0  female            2\n",
       "2         1    male            3\n",
       "3         0    male            4\n",
       "4         1  female            5"
      ]
     },
     "execution_count": 198,
     "metadata": {},
     "output_type": "execute_result"
    }
   ],
   "source": [
    "s1 = pd.Series([1,0,1,0,1])\n",
    "s2 = pd.Series(['female','female','male','male','female'])\n",
    "s3 = pd.Series([1,2,3,4,5])\n",
    "\n",
    "ti = pd.concat([s1,s2,s3], axis =1)\n",
    "ti.columns = ['Servived', 'Sex', 'PassengerId']\n",
    "ti"
   ]
  },
  {
   "cell_type": "code",
   "execution_count": 205,
   "id": "bba1e41b",
   "metadata": {
    "ExecuteTime": {
     "end_time": "2023-03-22T02:08:25.655929Z",
     "start_time": "2023-03-22T02:08:25.643449Z"
    }
   },
   "outputs": [
    {
     "data": {
      "text/html": [
       "<div>\n",
       "<style scoped>\n",
       "    .dataframe tbody tr th:only-of-type {\n",
       "        vertical-align: middle;\n",
       "    }\n",
       "\n",
       "    .dataframe tbody tr th {\n",
       "        vertical-align: top;\n",
       "    }\n",
       "\n",
       "    .dataframe thead th {\n",
       "        text-align: right;\n",
       "    }\n",
       "</style>\n",
       "<table border=\"1\" class=\"dataframe\">\n",
       "  <thead>\n",
       "    <tr style=\"text-align: right;\">\n",
       "      <th></th>\n",
       "      <th>Servived</th>\n",
       "    </tr>\n",
       "    <tr>\n",
       "      <th>Sex</th>\n",
       "      <th></th>\n",
       "    </tr>\n",
       "  </thead>\n",
       "  <tbody>\n",
       "    <tr>\n",
       "      <th>female</th>\n",
       "      <td>2</td>\n",
       "    </tr>\n",
       "    <tr>\n",
       "      <th>male</th>\n",
       "      <td>1</td>\n",
       "    </tr>\n",
       "  </tbody>\n",
       "</table>\n",
       "</div>"
      ],
      "text/plain": [
       "        Servived\n",
       "Sex             \n",
       "female         2\n",
       "male           1"
      ]
     },
     "execution_count": 205,
     "metadata": {},
     "output_type": "execute_result"
    }
   ],
   "source": [
    "# 성별에 따른 생존자 수 확인하기\n",
    "ti[['Servived', 'Sex']].groupby('Sex').sum() # 성별을 기준으로 묶어서 결과를 반환"
   ]
  },
  {
   "cell_type": "code",
   "execution_count": 228,
   "id": "2485c1b5",
   "metadata": {
    "ExecuteTime": {
     "end_time": "2023-03-22T02:14:32.215687Z",
     "start_time": "2023-03-22T02:14:32.190209Z"
    }
   },
   "outputs": [
    {
     "data": {
      "text/html": [
       "<div>\n",
       "<style scoped>\n",
       "    .dataframe tbody tr th:only-of-type {\n",
       "        vertical-align: middle;\n",
       "    }\n",
       "\n",
       "    .dataframe tbody tr th {\n",
       "        vertical-align: top;\n",
       "    }\n",
       "\n",
       "    .dataframe thead th {\n",
       "        text-align: right;\n",
       "    }\n",
       "</style>\n",
       "<table border=\"1\" class=\"dataframe\">\n",
       "  <thead>\n",
       "    <tr style=\"text-align: right;\">\n",
       "      <th></th>\n",
       "      <th></th>\n",
       "      <th>PassengerId</th>\n",
       "    </tr>\n",
       "    <tr>\n",
       "      <th>Sex</th>\n",
       "      <th>Servived</th>\n",
       "      <th></th>\n",
       "    </tr>\n",
       "  </thead>\n",
       "  <tbody>\n",
       "    <tr>\n",
       "      <th rowspan=\"2\" valign=\"top\">female</th>\n",
       "      <th>0</th>\n",
       "      <td>1</td>\n",
       "    </tr>\n",
       "    <tr>\n",
       "      <th>1</th>\n",
       "      <td>2</td>\n",
       "    </tr>\n",
       "    <tr>\n",
       "      <th rowspan=\"2\" valign=\"top\">male</th>\n",
       "      <th>0</th>\n",
       "      <td>1</td>\n",
       "    </tr>\n",
       "    <tr>\n",
       "      <th>1</th>\n",
       "      <td>1</td>\n",
       "    </tr>\n",
       "  </tbody>\n",
       "</table>\n",
       "</div>"
      ],
      "text/plain": [
       "                 PassengerId\n",
       "Sex    Servived             \n",
       "female 0                   1\n",
       "       1                   2\n",
       "male   0                   1\n",
       "       1                   1"
      ]
     },
     "execution_count": 228,
     "metadata": {},
     "output_type": "execute_result"
    }
   ],
   "source": [
    "# 성별에 따른 생존자 수 / 사망자 수 확인하기\n",
    "ti.groupby(by = ['Sex', 'Servived']).count()"
   ]
  },
  {
   "cell_type": "code",
   "execution_count": null,
   "id": "bda12493",
   "metadata": {},
   "outputs": [],
   "source": [
    "# 판다스 공식 사이트 ( https://pandas.pydata.org )"
   ]
  }
 ],
 "metadata": {
  "kernelspec": {
   "display_name": "Python 3 (ipykernel)",
   "language": "python",
   "name": "python3"
  },
  "language_info": {
   "codemirror_mode": {
    "name": "ipython",
    "version": 3
   },
   "file_extension": ".py",
   "mimetype": "text/x-python",
   "name": "python",
   "nbconvert_exporter": "python",
   "pygments_lexer": "ipython3",
   "version": "3.9.13"
  },
  "toc": {
   "base_numbering": 1,
   "nav_menu": {},
   "number_sections": true,
   "sideBar": true,
   "skip_h1_title": false,
   "title_cell": "Table of Contents",
   "title_sidebar": "Contents",
   "toc_cell": false,
   "toc_position": {},
   "toc_section_display": true,
   "toc_window_display": false
  },
  "varInspector": {
   "cols": {
    "lenName": 16,
    "lenType": 16,
    "lenVar": 40
   },
   "kernels_config": {
    "python": {
     "delete_cmd_postfix": "",
     "delete_cmd_prefix": "del ",
     "library": "var_list.py",
     "varRefreshCmd": "print(var_dic_list())"
    },
    "r": {
     "delete_cmd_postfix": ") ",
     "delete_cmd_prefix": "rm(",
     "library": "var_list.r",
     "varRefreshCmd": "cat(var_dic_list()) "
    }
   },
   "types_to_exclude": [
    "module",
    "function",
    "builtin_function_or_method",
    "instance",
    "_Feature"
   ],
   "window_display": false
  }
 },
 "nbformat": 4,
 "nbformat_minor": 5
}
