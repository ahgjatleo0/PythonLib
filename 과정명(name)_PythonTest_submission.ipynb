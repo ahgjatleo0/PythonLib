{
 "cells": [
  {
   "cell_type": "markdown",
   "metadata": {},
   "source": [
    "### 파이썬 활용 라이브러리 & 시각화 평가 답안지\n",
    "- 파일명에 본인 성명 기입하시오(Enter your name in the file name.)\n",
    "- 수업 중 배웠던 내용을 상기하여 최선을 다해 문제 풀어주세요.(Recall what you learned in class and do your best to solve the problem.)"
   ]
  },
  {
   "cell_type": "markdown",
   "metadata": {},
   "source": [
    "#### Question1\n",
    "다음은 어떤 차트에 대한 설명이다. 각 빈칸에 알맞은 답을 작성하시오."
   ]
  },
  {
   "cell_type": "code",
   "execution_count": null,
   "metadata": {},
   "outputs": [],
   "source": [
    "# ① : Line chart\n",
    "# ② : plt.plot()"
   ]
  },
  {
   "cell_type": "markdown",
   "metadata": {},
   "source": [
    "#### Question2"
   ]
  },
  {
   "cell_type": "markdown",
   "metadata": {},
   "source": [
    "다음은 어떤 차트에 대한 출력물이다. 문제를 읽고 알맞은 답을 작성하시오. "
   ]
  },
  {
   "cell_type": "markdown",
   "metadata": {},
   "source": [
    "1) 이 차트의 명칭을 작성하시오."
   ]
  },
  {
   "cell_type": "markdown",
   "metadata": {},
   "source": [
    "bar chart : 막대 그래프"
   ]
  },
  {
   "cell_type": "markdown",
   "metadata": {},
   "source": [
    "2) 이 차트를 matplotlib.pyplot 라이브러리를 사용하여 시각화하기 위해서 어떤 함수를 사용하는지 작성하시오. "
   ]
  },
  {
   "cell_type": "markdown",
   "metadata": {},
   "source": [
    "1. 우선 import matplotlib.pyplot as plt를 통해 plt라는 이름으로 라이브러리를 가져온다  \n",
    "2. x와 y값을 지정해 준다  \n",
    "3. plt.bar(x,y)를 통해 그래프를 만들어준다\n",
    "4. plt.show()를 통해 그래프를 출력한다."
   ]
  },
  {
   "cell_type": "markdown",
   "metadata": {},
   "source": [
    "#### Question3\n",
    "아래와 같이 리스트를 만들고 요소의 짝수/홀수를 구분하여 개수를 세는 프로그램을 작성하시오. "
   ]
  },
  {
   "cell_type": "code",
   "execution_count": 10,
   "metadata": {
    "ExecuteTime": {
     "end_time": "2023-03-23T05:45:11.378665Z",
     "start_time": "2023-03-23T05:45:11.364781Z"
    }
   },
   "outputs": [
    {
     "name": "stdout",
     "output_type": "stream",
     "text": [
      "짝수 2개, 홀수 7개\n"
     ]
    }
   ],
   "source": [
    "list1 = [1, 50, 27, 19, 37, 33, 5, 3, 48]\n",
    "a, b = (0,0)\n",
    "\n",
    "for i in range(len(list1)) :\n",
    "    if list1[i] % 2 == 0 :\n",
    "        a += 1\n",
    "    else :\n",
    "        b += 1\n",
    "        \n",
    "print('짝수 {}개, 홀수 {}개'.format(a,b))\n"
   ]
  },
  {
   "cell_type": "markdown",
   "metadata": {},
   "source": [
    "#### Question4\n",
    "다음 score_list에 들어있는 데이터를 이용해 아래와 같이 성적표를 만드는 프로그램을 작성하시오. (단, 학생의 숫자가 늘어나도 동작할 수 있도록 고려하시오.)"
   ]
  },
  {
   "cell_type": "code",
   "execution_count": 70,
   "metadata": {
    "ExecuteTime": {
     "end_time": "2023-03-23T06:21:51.714399Z",
     "start_time": "2023-03-23T06:21:51.699080Z"
    }
   },
   "outputs": [
    {
     "name": "stdout",
     "output_type": "stream",
     "text": [
      "==================================================\n",
      "이름\t Python\t Java\t DB\t 평균\t 학점\n",
      "==================================================\n",
      "김미희\t 89\t 78\t 99\t 88\t B\t\n",
      "서대희\t 67\t 88\t 77\t 77\t C\t\n",
      "강예진\t 100\t 55\t 96\t 83\t B\t\n",
      "==================================================\n",
      "평균\t 85\t 73\t 90\t\n"
     ]
    }
   ],
   "source": [
    "score_list = [['김미희', 89, 78, 99], ['서대희', 67, 88, 77],\n",
    "              ['강예진', 100, 55, 96]]\n",
    "score_list\n",
    "\n",
    "print('='*50)\n",
    "print('이름\\t Python\\t Java\\t DB\\t 평균\\t 학점')\n",
    "print('='*50)\n",
    "\n",
    "for j in score_list :\n",
    "    avg = int((j[1] + j[2] + j[3])/3)\n",
    "    if avg >= 90 :\n",
    "        grade = 'A'\n",
    "    elif avg >= 80 :\n",
    "        grade = 'B'\n",
    "    elif avg >= 70 :\n",
    "        grade = 'C'\n",
    "    elif avg >= 60 :\n",
    "        grade = 'D'\n",
    "    else :\n",
    "        grade = 'F'\n",
    "    j.append(avg)\n",
    "    j.append(grade)\n",
    "    print('{}\\t {}\\t {}\\t {}\\t {}\\t {}\\t'.format(j[0], j[1], j[2], j[3], j[4], j[5]))\n",
    "print('='*50)\n",
    "python, java, db = (0,0,0)\n",
    "\n",
    "for k in score_list :\n",
    "    python += k[1]\n",
    "    java += k[2]\n",
    "    db += k[3]\n",
    "print('평균\\t {}\\t {}\\t {}\\t'.format(python//len(score_list), java//len(score_list)\n",
    "                                   , db//len(score_list)))\n",
    "    \n",
    "    \n"
   ]
  },
  {
   "cell_type": "code",
   "execution_count": 71,
   "metadata": {
    "ExecuteTime": {
     "end_time": "2023-03-23T06:21:53.785910Z",
     "start_time": "2023-03-23T06:21:53.770924Z"
    }
   },
   "outputs": [
    {
     "name": "stdout",
     "output_type": "stream",
     "text": [
      "==================================================\n",
      "이름\t Python\t Java\t DB\t 평균\t 학점\n",
      "==================================================\n",
      "김미희\t 89\t 78\t 99\t 88\t B\t\n",
      "서대희\t 67\t 88\t 77\t 77\t C\t\n",
      "강예진\t 100\t 55\t 96\t 83\t B\t\n",
      "차현석\t 75\t 100\t 60\t 78\t C\t\n",
      "==================================================\n",
      "평균\t 82\t 80\t 83\t\n"
     ]
    }
   ],
   "source": [
    "score_list = [['김미희', 89, 78, 99], ['서대희', 67, 88, 77],\n",
    "              ['강예진', 100, 55, 96], ['차현석', 75, 100, 60]]\n",
    "score_list\n",
    "\n",
    "print('='*50)\n",
    "print('이름\\t Python\\t Java\\t DB\\t 평균\\t 학점')\n",
    "print('='*50)\n",
    "\n",
    "for j in score_list :\n",
    "    avg = int((j[1] + j[2] + j[3])/3)\n",
    "    if avg >= 90 :\n",
    "        grade = 'A'\n",
    "    elif avg >= 80 :\n",
    "        grade = 'B'\n",
    "    elif avg >= 70 :\n",
    "        grade = 'C'\n",
    "    elif avg >= 60 :\n",
    "        grade = 'D'\n",
    "    else :\n",
    "        grade = 'F'\n",
    "    j.append(avg)\n",
    "    j.append(grade)\n",
    "    print('{}\\t {}\\t {}\\t {}\\t {}\\t {}\\t'.format(j[0], j[1], j[2], j[3], j[4], j[5]))\n",
    "print('='*50)\n",
    "python, java, db = (0,0,0)\n",
    "\n",
    "for k in score_list :\n",
    "    python += k[1]\n",
    "    java += k[2]\n",
    "    db += k[3]\n",
    "print('평균\\t {}\\t {}\\t {}\\t'.format(python//len(score_list), java//len(score_list)\n",
    "                                   , db//len(score_list)))\n",
    "    \n",
    "    \n"
   ]
  },
  {
   "cell_type": "markdown",
   "metadata": {},
   "source": [
    "#### Question5\n",
    " X, Y1, Y2 리스트 자료를 활용하여 [실행결과]와 같은 그래프를 출력하는 프로그램을 작성하시오.  (단, 두 차트는 빨간색과 파란색을 통해 구별 하시오.)"
   ]
  },
  {
   "cell_type": "code",
   "execution_count": 322,
   "metadata": {
    "ExecuteTime": {
     "end_time": "2023-03-23T08:11:38.956518Z",
     "start_time": "2023-03-23T08:11:38.940899Z"
    }
   },
   "outputs": [],
   "source": [
    "import numpy as np\n",
    "import pandas as pd\n",
    "import matplotlib.pyplot as plt"
   ]
  },
  {
   "cell_type": "code",
   "execution_count": 65,
   "metadata": {
    "ExecuteTime": {
     "end_time": "2023-03-23T06:19:01.196727Z",
     "start_time": "2023-03-23T06:19:01.181531Z"
    }
   },
   "outputs": [],
   "source": [
    "# 한글 표현하기\n",
    "from matplotlib import rc\n",
    "\n",
    "# 폰트 설정\n",
    "rc('font', family = 'Malgun Gothic') # 시스템이 설정된 이름"
   ]
  },
  {
   "cell_type": "code",
   "execution_count": 323,
   "metadata": {
    "ExecuteTime": {
     "end_time": "2023-03-23T08:11:43.169878Z",
     "start_time": "2023-03-23T08:11:43.011478Z"
    }
   },
   "outputs": [
    {
     "data": {
      "image/png": "[encoded data removed]",
      "text/plain": [
       "<Figure size 640x480 with 1 Axes>"
      ]
     },
     "metadata": {},
     "output_type": "display_data"
    }
   ],
   "source": [
    "X = [2,3,4,5,6,7,8]\n",
    "Y1 = [5,7,3,9,1,8,6]\n",
    "Y2 = [9,5,7,2,3,7,1]\n",
    "\n",
    "plt.plot(X, Y1, label = 'Y1', c = 'r')\n",
    "plt.plot(X, Y2, label = 'Y2', c = 'b')\n",
    "plt.grid()\n",
    "plt.xlabel('X') # x축의 이름\n",
    "plt.ylabel('Y') # y축의 이름\n",
    "plt.legend(loc = 'upper right') # 범례표시 \n",
    "plt.title('[실행결과]') # 그래프 제목\n",
    "\n",
    "plt.show()"
   ]
  },
  {
   "cell_type": "markdown",
   "metadata": {},
   "source": [
    "#### Question6\n",
    "Traffic_Accident_2017.csv 데이터를 이용하여 ‘차대 사람’인 사건 중 야간에 발생한 사건에 대해 아래 주어진 조건을 지켜 다음과 같이 시각화 하시오.\n",
    "\n",
    "※ 조건 내용 반드시 확인할 것  \n",
    " 조건 1. 사고유형_대분류가 ‘차대사람’ 이면서 발생시간대가 ‘야간’인 경우의 사고 건수 카운트  \n",
    " 조건 2. y축의 범위는 0~200으로 설정할 것  \n",
    " 조건 3. 차트 내부 글씨는 한글로 표시할 것  "
   ]
  },
  {
   "cell_type": "code",
   "execution_count": 324,
   "metadata": {
    "ExecuteTime": {
     "end_time": "2023-03-23T08:11:45.205776Z",
     "start_time": "2023-03-23T08:11:45.163590Z"
    }
   },
   "outputs": [],
   "source": [
    "import pandas as pd\n",
    "data = pd.read_csv('./data/Traffic_Accident_2017.csv', encoding = 'euc-kr')"
   ]
  },
  {
   "cell_type": "code",
   "execution_count": 325,
   "metadata": {
    "ExecuteTime": {
     "end_time": "2023-03-23T08:11:46.224405Z",
     "start_time": "2023-03-23T08:11:46.187900Z"
    },
    "collapsed": true
   },
   "outputs": [
    {
     "data": {
      "text/plain": [
       "발생년   발생년월일시      발생분  주야  요일  사망자수  사상자수  중상자수  경상자수  부상신고자수  발생지시도  발생지시군구  사고유형_대분류  사고유형_중분류  사고유형   법규위반_대분류  법규위반         도로형태_대분류  도로형태      당사자종별_1당_대분류  당사자종별_1당  당사자종별_2당_대분류  당사자종별_2당  발생위치X_UTMK  발생위치Y_UTMK  경도          위도       \n",
       "2017  2017010102  28   야간  일   1     1     0     0     0       서울     송파구     차대사람      횡단중       횡단중    운전자법규위반   안전운전 의무 불이행  교차로       교차로부근     승용차           승용차       보행자           보행자       967570      1944453     127.133107  37.498741    1\n",
       "      2017090819  15   야간  금   1     1     0     0     0       충남     공주시     차대사람      차도통행중     차도통행중  운전자법규위반   신호위반         교차로       교차로내      이륜차           이륜차       보행자           보행자       967525      1831148     127.137481  36.477407    1\n",
       "      2017091823  0    야간  월   1     2     1     0     0       경북     경주시     차대사람      횡단중       횡단중    운전자법규위반   중앙선 침범       단일로       기타단일로     승용차           승용차       보행자           보행자       1146223     1761077     129.118971  35.835312    1\n",
       "      2017091900  25   야간  화   1     1     0     0     0       경북     성주군     차대사람      기타        기타     운전자법규위반   안전운전 의무 불이행  단일로       기타단일로     승용차           승용차       보행자           보행자       1071687     1769103     128.294544  35.915953    1\n",
       "      2017091918  12   야간  화   1     1     0     0     0       경기     가평군     차대사람      횡단중       횡단중    운전자법규위반   안전운전 의무 불이행  단일로       기타단일로     승용차           승용차       보행자           보행자       1001330     1979222     127.515110  37.812726    1\n",
       "                                                                                                                                                                                                                                                    ..\n",
       "      2017051323  10   야간  토   1     1     0     0     0       경북     포항시     차대사람      차도통행중     차도통행중  운전자법규위반   안전운전 의무 불이행  단일로       기타단일로     화물차           화물차       보행자           보행자       1165850     1790796     129.342399  36.099996    1\n",
       "      2017051420  15   야간  일   1     1     0     0     0       충북     청주시     차대사람      횡단중       횡단중    운전자법규위반   보행자 보호의무 위반  교차로       교차로횡단보도내  승용차           승용차       보행자           보행자       997924      1847873     127.476780  36.628733    1\n",
       "      2017051421  13   야간  일   1     1     0     0     0       대전     동구      차대사람      횡단중       횡단중    운전자법규위반   안전운전 의무 불이행  단일로       기타단일로     승합차           승합차       보행자           보행자       997284      1808448     127.469760  36.273304    1\n",
       "      2017051519  20   야간  월   1     1     0     0     0       대전     유성구     차대사람      횡단중       횡단중    운전자법규위반   안전운전 의무 불이행  교차로       교차로부근     승용차           승용차       보행자           보행자       985828      1819845     127.342003  36.375953    1\n",
       "      2017123123  15   야간  일   1     1     0     0     0       대전     동구      차대사람      횡단중       횡단중    운전자법규위반   안전운전 의무 불이행  단일로       기타단일로     이륜차           이륜차       보행자           보행자       995304      1814453     127.447679  36.327435    1\n",
       "Length: 964, dtype: int64"
      ]
     },
     "execution_count": 325,
     "metadata": {},
     "output_type": "execute_result"
    }
   ],
   "source": [
    "# 조건 1\n",
    "pp = data['사고유형_대분류'] == '차대사람'\n",
    "night =data['주야'] == '야간'\n",
    "\n",
    "result = data[pp & night]\n",
    "result.value_counts()"
   ]
  },
  {
   "cell_type": "code",
   "execution_count": 326,
   "metadata": {
    "ExecuteTime": {
     "end_time": "2023-03-23T08:11:47.502732Z",
     "start_time": "2023-03-23T08:11:47.491562Z"
    }
   },
   "outputs": [
    {
     "data": {
      "text/plain": [
       "월    123\n",
       "화    145\n",
       "수    142\n",
       "목    134\n",
       "금    137\n",
       "토    162\n",
       "일    121\n",
       "Name: 요일, dtype: int64"
      ]
     },
     "execution_count": 326,
     "metadata": {},
     "output_type": "execute_result"
    }
   ],
   "source": [
    "data['요일']\n",
    "data['요일'].unique()\n",
    "y = result['요일'].value_counts()\n",
    "y = y[['월', '화', '수', '목', '금', '토', '일']]\n",
    "y"
   ]
  },
  {
   "cell_type": "code",
   "execution_count": 327,
   "metadata": {
    "ExecuteTime": {
     "end_time": "2023-03-23T08:11:49.140584Z",
     "start_time": "2023-03-23T08:11:49.012166Z"
    },
    "scrolled": false
   },
   "outputs": [
    {
     "data": {
      "image/png": "[encoded data removed]",
      "text/plain": [
       "<Figure size 640x480 with 1 Axes>"
      ]
     },
     "metadata": {},
     "output_type": "display_data"
    }
   ],
   "source": [
    "# 5. bar 차트 그리기\n",
    "x = y.index # x가 없으므로 요일 정보를 출력하기 위해 인덱스명을 추출\n",
    "plt.bar(x,y)\n",
    "plt.ylim(0, 200) # y축에 범위 저장\n",
    "\n",
    "plt.xlabel('요일')  # x축에 이름 저장\n",
    "plt.ylabel('사망자수') # y축에 이름 저장\n",
    "plt.title('요일별 야간 차대사람 교통사고 건수') # 전체 이름(title) 저장\n",
    "\n",
    "\n",
    "plt.show()"
   ]
  },
  {
   "cell_type": "markdown",
   "metadata": {},
   "source": [
    "### 수고하셨습니다 ."
   ]
  }
 ],
 "metadata": {
  "kernelspec": {
   "display_name": "Python 3 (ipykernel)",
   "language": "python",
   "name": "python3"
  },
  "language_info": {
   "codemirror_mode": {
    "name": "ipython",
    "version": 3
   },
   "file_extension": ".py",
   "mimetype": "text/x-python",
   "name": "python",
   "nbconvert_exporter": "python",
   "pygments_lexer": "ipython3",
   "version": "3.9.13"
  },
  "toc": {
   "base_numbering": 1,
   "nav_menu": {},
   "number_sections": true,
   "sideBar": true,
   "skip_h1_title": false,
   "title_cell": "Table of Contents",
   "title_sidebar": "Contents",
   "toc_cell": false,
   "toc_position": {},
   "toc_section_display": true,
   "toc_window_display": false
  },
  "varInspector": {
   "cols": {
    "lenName": 16,
    "lenType": 16,
    "lenVar": 40
   },
   "kernels_config": {
    "python": {
     "delete_cmd_postfix": "",
     "delete_cmd_prefix": "del ",
     "library": "var_list.py",
     "varRefreshCmd": "print(var_dic_list())"
    },
    "r": {
     "delete_cmd_postfix": ") ",
     "delete_cmd_prefix": "rm(",
     "library": "var_list.r",
     "varRefreshCmd": "cat(var_dic_list()) "
    }
   },
   "types_to_exclude": [
    "module",
    "function",
    "builtin_function_or_method",
    "instance",
    "_Feature"
   ],
   "window_display": false
  }
 },
 "nbformat": 4,
 "nbformat_minor": 4
}
